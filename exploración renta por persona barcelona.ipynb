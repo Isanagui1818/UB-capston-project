{
 "cells": [
  {
   "cell_type": "markdown",
   "metadata": {},
   "source": [
    "# Exploración datos economicos por barrios de la ciudad de Barcelona"
   ]
  },
  {
   "cell_type": "code",
   "execution_count": null,
   "metadata": {},
   "outputs": [],
   "source": [
    "# Ruta de la carpeta con los archivos CSV en el portátil \n",
    "carpeta_origen = 'C:/Users/TITAN OSCURO/Desktop/Datos bicing'"
   ]
  },
  {
   "cell_type": "code",
   "execution_count": 2,
   "metadata": {},
   "outputs": [],
   "source": [
    "# Ruta de la carpeta con los archivos CSV en la torre\n",
    "carpeta_origen = \"C:/Users/isana/Desktop/Datos bicing\""
   ]
  },
  {
   "cell_type": "code",
   "execution_count": 3,
   "metadata": {},
   "outputs": [],
   "source": [
    "import os\n",
    "import pandas as pd\n",
    "\n",
    "# Leer el archivo CSV y guardarlo en un dataframe\n",
    "ruta_archivo = os.path.join(carpeta_origen, '2021_renda_disponible_llars_per_persona.csv')\n",
    "renta_persona_2021 = pd.read_csv(ruta_archivo)\n",
    "\n"
   ]
  },
  {
   "cell_type": "code",
   "execution_count": 6,
   "metadata": {},
   "outputs": [
    {
     "data": {
      "text/plain": [
       "count     1068.000000\n",
       "mean     21878.579607\n",
       "std       5845.159306\n",
       "min       8503.230000\n",
       "25%      18062.255000\n",
       "50%      21279.225000\n",
       "75%      24457.832500\n",
       "max      40440.010000\n",
       "Name: Import_Euros, dtype: float64"
      ]
     },
     "execution_count": 6,
     "metadata": {},
     "output_type": "execute_result"
    }
   ],
   "source": [
    "renta_persona_2021['Import_Euros'].describe()"
   ]
  },
  {
   "cell_type": "code",
   "execution_count": 7,
   "metadata": {},
   "outputs": [
    {
     "name": "stdout",
     "output_type": "stream",
     "text": [
      "<class 'pandas.core.frame.DataFrame'>\n",
      "RangeIndex: 1068 entries, 0 to 1067\n",
      "Data columns (total 7 columns):\n",
      " #   Column          Non-Null Count  Dtype  \n",
      "---  ------          --------------  -----  \n",
      " 0   Any             1068 non-null   int64  \n",
      " 1   Codi_Districte  1068 non-null   int64  \n",
      " 2   Nom_Districte   1068 non-null   object \n",
      " 3   Codi_Barri      1068 non-null   int64  \n",
      " 4   Nom_Barri       1068 non-null   object \n",
      " 5   Seccio_Censal   1068 non-null   int64  \n",
      " 6   Import_Euros    1068 non-null   float64\n",
      "dtypes: float64(1), int64(4), object(2)\n",
      "memory usage: 58.5+ KB\n"
     ]
    }
   ],
   "source": [
    "renta_persona_2021.info()"
   ]
  }
 ],
 "metadata": {
  "kernelspec": {
   "display_name": "Python 3",
   "language": "python",
   "name": "python3"
  },
  "language_info": {
   "codemirror_mode": {
    "name": "ipython",
    "version": 3
   },
   "file_extension": ".py",
   "mimetype": "text/x-python",
   "name": "python",
   "nbconvert_exporter": "python",
   "pygments_lexer": "ipython3",
   "version": "3.13.2"
  }
 },
 "nbformat": 4,
 "nbformat_minor": 2
}
