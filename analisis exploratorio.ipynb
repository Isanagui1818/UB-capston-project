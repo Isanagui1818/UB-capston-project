{
 "cells": [
  {
   "cell_type": "markdown",
   "metadata": {},
   "source": [
    "# Estructura datasets y carga de los datos"
   ]
  },
  {
   "cell_type": "markdown",
   "metadata": {},
   "source": [
    "Estructura dataset:\n",
    "\n",
    "- Camp \tDescripció\n",
    "- last_updated \tTimestamp de l'arxiu\n",
    "- ttl \tTimeToLive de la resposta\n",
    "- data \tContenidor d'arrays d'informació d'estacions\n",
    "- stations \tArray de dades de cada estació\n",
    "- station_id \tIdentificador de l'estació\n",
    "- num_bikes_available \tNombre de bicicletes disponibles\n",
    "- num_bikes_available_types \tArray de tipus de bicicletes disponibles\n",
    "- mechanical \tNombre de bicicletes mecàniques disponibles\n",
    "- ebike \tNombre de bicicletes elèctriques disponibles\n",
    "- num_docks_available \tNombre de ancoratges disponibles\n",
    "- is_installed \tL'estació està correctament instalada (0-NO,1-SI)\n",
    "- is_renting \tL'estació està proporcionant bicicletes correctament\n",
    "- is_returning \tL'estació està ancorant bicicletes correctament\n",
    "- last_reported \tTimestamp de la informació de l'estació\n",
    "- is_charging_station \tL'estació té capacitat de càrrega de bicicletes elèctriques\n",
    "- status \tEstat de l'estació (IN_SERVICE=En servei, CLOSED=Tancada"
   ]
  },
  {
   "cell_type": "markdown",
   "metadata": {},
   "source": [
    "Donde pone carpeta_origen debeis poner la ruta de vuestros datos guardados si quereis os podeis guardar en un archivo aparte vuestra ruta para no tenerla que escribir cada vez porque cada vez que yo actualice el archiv tendreís que volver a cargar los datos si copias y pegais la ruta de vuestro ordenador de forma directa recordar que Windows usa este tipo de barra como delimitador \\ y dará error teneís que usar esta barra / la del número (shit+7). Fijaros que sea como mi ruta de carpeta de origen."
   ]
  },
  {
   "cell_type": "code",
   "execution_count": 1,
   "metadata": {},
   "outputs": [],
   "source": [
    "# Librerias para usar con el código\n",
    "import numpy as np\n",
    "import seaborn as sns\n",
    "import plotly as fx\n",
    "import matplotlib as plt"
   ]
  },
  {
   "cell_type": "code",
   "execution_count": 2,
   "metadata": {},
   "outputs": [],
   "source": [
    "# Ruta de la carpeta con los archivos CSV en el portátil \n",
    "carpeta_origen = 'C:/Users/TITAN OSCURO/Desktop/Datos bicing'"
   ]
  },
  {
   "cell_type": "code",
   "execution_count": null,
   "metadata": {},
   "outputs": [],
   "source": [
    "# Ruta de la carpeta con los archivos CSV en la torre\n",
    "carpeta_origen = \"C:/Users/isana/Desktop/Datos bicing\""
   ]
  },
  {
   "cell_type": "code",
   "execution_count": 3,
   "metadata": {},
   "outputs": [
    {
     "name": "stdout",
     "output_type": "stream",
     "text": [
      "Dataframe cargado exitosamente: Info_bicing_csv\n"
     ]
    }
   ],
   "source": [
    "import pandas as pd\n",
    "import os\n",
    "# Leer el archivo CSV y guardarlo en un dataframe\n",
    "ruta_archivo = os.path.join(carpeta_origen, 'Informacio_Estacions_Bicing_2025.csv')\n",
    "Info_bicing_csv = pd.read_csv(ruta_archivo)\n",
    "\n",
    "# Visualizar el contenido del dataframe\n",
    "print('Dataframe cargado exitosamente: Info_bicing_csv')"
   ]
  },
  {
   "cell_type": "markdown",
   "metadata": {},
   "source": [
    "Pongo esto para no tener que escribir todo el rato los años que elijo para ejecutar el código así copio y pego\n",
    "- años: 2024,2023,2022,2021,2020"
   ]
  },
  {
   "cell_type": "code",
   "execution_count": 4,
   "metadata": {},
   "outputs": [
    {
     "name": "stderr",
     "output_type": "stream",
     "text": [
      "C:\\Users\\TITAN OSCURO\\AppData\\Local\\Temp\\ipykernel_5492\\441575779.py:15: DtypeWarning: Columns (6) have mixed types. Specify dtype option on import or set low_memory=False.\n",
      "  df = pd.read_csv(ruta_archivo)\n",
      "C:\\Users\\TITAN OSCURO\\AppData\\Local\\Temp\\ipykernel_5492\\441575779.py:15: DtypeWarning: Columns (6) have mixed types. Specify dtype option on import or set low_memory=False.\n",
      "  df = pd.read_csv(ruta_archivo)\n",
      "C:\\Users\\TITAN OSCURO\\AppData\\Local\\Temp\\ipykernel_5492\\441575779.py:15: DtypeWarning: Columns (6) have mixed types. Specify dtype option on import or set low_memory=False.\n",
      "  df = pd.read_csv(ruta_archivo)\n",
      "C:\\Users\\TITAN OSCURO\\AppData\\Local\\Temp\\ipykernel_5492\\441575779.py:15: DtypeWarning: Columns (6) have mixed types. Specify dtype option on import or set low_memory=False.\n",
      "  df = pd.read_csv(ruta_archivo)\n",
      "C:\\Users\\TITAN OSCURO\\AppData\\Local\\Temp\\ipykernel_5492\\441575779.py:15: DtypeWarning: Columns (6) have mixed types. Specify dtype option on import or set low_memory=False.\n",
      "  df = pd.read_csv(ruta_archivo)\n"
     ]
    },
    {
     "name": "stdout",
     "output_type": "stream",
     "text": [
      "Archivos del año 2024 combinados exitosamente en un dataframe llamado 'dataframe_final_2024'.\n"
     ]
    },
    {
     "name": "stderr",
     "output_type": "stream",
     "text": [
      "C:\\Users\\TITAN OSCURO\\AppData\\Local\\Temp\\ipykernel_5492\\441575779.py:15: DtypeWarning: Columns (6) have mixed types. Specify dtype option on import or set low_memory=False.\n",
      "  df = pd.read_csv(ruta_archivo)\n",
      "C:\\Users\\TITAN OSCURO\\AppData\\Local\\Temp\\ipykernel_5492\\441575779.py:15: DtypeWarning: Columns (7) have mixed types. Specify dtype option on import or set low_memory=False.\n",
      "  df = pd.read_csv(ruta_archivo)\n"
     ]
    },
    {
     "name": "stdout",
     "output_type": "stream",
     "text": [
      "Archivos del año 2023 combinados exitosamente en un dataframe llamado 'dataframe_final_2023'.\n",
      "Archivos del año 2022 combinados exitosamente en un dataframe llamado 'dataframe_final_2022'.\n",
      "Archivos del año 2021 combinados exitosamente en un dataframe llamado 'dataframe_final_2021'.\n",
      "Archivos del año 2020 combinados exitosamente en un dataframe llamado 'dataframe_final_2020'.\n"
     ]
    }
   ],
   "source": [
    "# Solicitar al usuario los años a filtrar como una lista\n",
    "años_filtrar = input(\"Introduce los años que deseas filtrar, separados por comas: \").split(',')\n",
    "\n",
    "# Iterar sobre cada año en la lista\n",
    "for año_filtrar in años_filtrar:\n",
    "    # Crear una lista para almacenar los dataframes de este año\n",
    "    dataframes = []\n",
    "    \n",
    "    # Iterar sobre los archivos en la carpeta origen\n",
    "    for archivo in os.listdir(carpeta_origen):\n",
    "        # Verificar si el archivo empieza con el año indicado y es un CSV\n",
    "        if archivo.startswith(año_filtrar.strip()) and archivo.endswith(\".csv\"):\n",
    "            # Leer el archivo CSV y añadirlo a la lista de dataframes\n",
    "            ruta_archivo = os.path.join(carpeta_origen, archivo)\n",
    "            df = pd.read_csv(ruta_archivo)\n",
    "            dataframes.append(df)\n",
    "    \n",
    "    # Combinar todos los dataframes del año actual en uno solo\n",
    "    if dataframes:  # Verificar que la lista no esté vacía\n",
    "        dataframe_final = pd.concat(dataframes, ignore_index=True)\n",
    "        \n",
    "        # Crear dinámicamente una variable global con el nombre del año\n",
    "        nombre_variable = f\"dataframe_final_{año_filtrar.strip()}\"\n",
    "        globals()[nombre_variable] = dataframe_final\n",
    "        \n",
    "        print(f\"Archivos del año {año_filtrar.strip()} combinados exitosamente en un dataframe llamado '{nombre_variable}'.\")\n",
    "    else:\n",
    "        print(f\"No se encontraron archivos para el año {año_filtrar.strip()}.\")"
   ]
  },
  {
   "cell_type": "markdown",
   "metadata": {},
   "source": [
    "Ahora puedes introducir los años en formato lista separado por , si pones todos los años (2024,2023,2022,2021,2020) la ejecución me ha tardado 5min 16,3s (no es un tiempo muy loco). También podeis ejecutar solo 1 año o varios como querais solo hay que separarlos por comas a la entrada de los datos"
   ]
  },
  {
   "cell_type": "markdown",
   "metadata": {},
   "source": [
    "- El año 2020 no tiene ningun dato NA. Tiene 46.038.633 de filas y 13 varibles.\n",
    "- El año 2021 tiene una variable más que el año anterior (traffic) y todos los valores de esta variable son NA. Tiene 52.014.085 de filas y 14 variables.\n",
    "- El año 2022 también tiene la variable (traffic) con todos los valores NA. Tiene 52.892.456 de filas y 14 varibles. Me ha tardado 1min 23s en crear el dataframe.\n",
    "- El año 2023 también tiene la variable (traffic) y tiene otra variable más (V1) ambas tiene todos los valores NA, el resto de variables tienen algunos casos NA, pero pocos si lo comparamos con el tamaño del datasaet. Tiene 49.193.646 de filas y 15 varibles. Me ha tardado 1min 18s en crear el dataframe.\n",
    "- El año 2024 no está completo, los datos solo llegan hasta mayo del 2024. También tiene las variables (traffic, V1) y ambas tienen todos los valores NA, además tiene algunos valores faltantes en el resto de variables, también muy pocos casos viendo el tamaño del dataset. Tiene 22.063.104 de filas y 15 varibles. Es el dataframe que menos tarda en cargar 52s\n"
   ]
  },
  {
   "cell_type": "markdown",
   "metadata": {},
   "source": [
    "Voy a poner código para eliminar las variables traffic y V1 en todos los dataframes que hay que eliminarlas ya que todos sus valores son faltantes. Y viendo la cantidad de datos NA los eliminaria todos en todos los datasets en vez de complicarnos la vida haciendo algún método de imputación ya que son muy pocos para el tamaño de los datasets que tenemos"
   ]
  },
  {
   "cell_type": "markdown",
   "metadata": {},
   "source": [
    "# Transformación de los datos"
   ]
  },
  {
   "cell_type": "code",
   "execution_count": 5,
   "metadata": {},
   "outputs": [],
   "source": [
    "# Eliminación de variables que no sirven\n",
    "dataframe_final_2021.drop(columns='traffic', inplace=True)\n",
    "dataframe_final_2022.drop(columns='traffic', inplace=True)\n",
    "dataframe_final_2023.drop(columns=['traffic','V1'], inplace=True)\n",
    "dataframe_final_2024.drop(columns=['traffic','V1'], inplace=True)"
   ]
  },
  {
   "cell_type": "markdown",
   "metadata": {},
   "source": [
    "El código debajo de esta ventana es por si quereis borrar alguna columna más para vuestro análisis porque os molesta. Doy dos opciones de hacerlo recomendable hacer la 2n opcióna así los datos originales estan intactos si haciendo cosas los destrozais no teneis que volver a cargarlos así trabajais con la copia:"
   ]
  },
  {
   "cell_type": "code",
   "execution_count": null,
   "metadata": {},
   "outputs": [],
   "source": [
    "# # Eliminar la columna deseada del dataframe\n",
    "# dataframe_final_2020.drop(columns='nombre de columna', inplace=True) # de esta forma el cambio se hace en el data frame original\n",
    "\n",
    "# # aquí borramos la columna y la guardamos en un data frame nuevo por si quieres volver atras cargar el original con todos los datos\n",
    "# dataframe_final_2020_copia=dataframe_final_2020.drop(columns='nombre de columna') \n",
    "\n",
    "## Si la copia de los datos no sale bien borrar el data frame de la siguiente forma:\n",
    "# del dataframe_final_2020_copia"
   ]
  },
  {
   "cell_type": "code",
   "execution_count": 6,
   "metadata": {},
   "outputs": [],
   "source": [
    "# Eliminación de datos NA\n",
    "dataframe_final_2021.dropna(inplace=True)\n",
    "dataframe_final_2022.dropna(inplace=True)\n",
    "dataframe_final_2023.dropna(inplace=True)\n",
    "dataframe_final_2024.dropna(inplace=True)"
   ]
  },
  {
   "cell_type": "code",
   "execution_count": 7,
   "metadata": {},
   "outputs": [],
   "source": [
    "# Transformar las dos variables timestamp en formato segundos a formato fecha. Si utilizas otro año de data frame\n",
    "dataframe_final_2020['last_reported']=pd.to_datetime(dataframe_final_2024['last_reported'], unit='s')\n",
    "dataframe_final_2020['last_updated']=pd.to_datetime(dataframe_final_2024['last_updated'], unit='s')\n",
    "\n",
    "dataframe_final_2021['last_reported']=pd.to_datetime(dataframe_final_2024['last_reported'], unit='s')\n",
    "dataframe_final_2021['last_updated']=pd.to_datetime(dataframe_final_2024['last_updated'], unit='s')\n",
    "\n",
    "dataframe_final_2022['last_reported']=pd.to_datetime(dataframe_final_2024['last_reported'], unit='s')\n",
    "dataframe_final_2022['last_updated']=pd.to_datetime(dataframe_final_2024['last_updated'], unit='s')\n",
    "\n",
    "dataframe_final_2023['last_reported']=pd.to_datetime(dataframe_final_2024['last_reported'], unit='s')\n",
    "dataframe_final_2023['last_updated']=pd.to_datetime(dataframe_final_2024['last_updated'], unit='s')\n",
    "\n",
    "dataframe_final_2024['last_reported']=pd.to_datetime(dataframe_final_2024['last_reported'], unit='s')\n",
    "dataframe_final_2024['last_updated']=pd.to_datetime(dataframe_final_2024['last_updated'], unit='s')"
   ]
  },
  {
   "cell_type": "markdown",
   "metadata": {},
   "source": [
    "Dataset sobre información de las estaciones de bicing:\n",
    "- La variable (rental_uris) tienen todos los valores NA y la variable (is_valet_station) así que mejor eliminar ambas variables."
   ]
  },
  {
   "cell_type": "code",
   "execution_count": 8,
   "metadata": {},
   "outputs": [],
   "source": [
    "# Eliminación de variables que no sirven\n",
    "Info_bicing_csv.drop(columns='rental_uris', inplace=True)\n",
    "Info_bicing_csv.drop(columns='is_valet_station', inplace=True)"
   ]
  },
  {
   "cell_type": "markdown",
   "metadata": {},
   "source": [
    "Hasta aquí ya hay un procesado previo que deja los datos listos para ser visualizados de forma sencilla"
   ]
  },
  {
   "cell_type": "code",
   "execution_count": 11,
   "metadata": {},
   "outputs": [
    {
     "data": {
      "application/vnd.microsoft.datawrangler.viewer.v0+json": {
       "columns": [
        {
         "name": "index",
         "rawType": "int64",
         "type": "integer"
        },
        {
         "name": "station_id",
         "rawType": "int64",
         "type": "integer"
        },
        {
         "name": "name",
         "rawType": "object",
         "type": "string"
        },
        {
         "name": "physical_configuration",
         "rawType": "object",
         "type": "string"
        },
        {
         "name": "lat",
         "rawType": "float64",
         "type": "float"
        },
        {
         "name": "lon",
         "rawType": "float64",
         "type": "float"
        },
        {
         "name": "altitude",
         "rawType": "float64",
         "type": "float"
        },
        {
         "name": "address",
         "rawType": "object",
         "type": "string"
        },
        {
         "name": "cross_street",
         "rawType": "object",
         "type": "unknown"
        },
        {
         "name": "post_code",
         "rawType": "float64",
         "type": "float"
        },
        {
         "name": "capacity",
         "rawType": "int64",
         "type": "integer"
        },
        {
         "name": "is_charging_station",
         "rawType": "bool",
         "type": "boolean"
        },
        {
         "name": "short_name",
         "rawType": "int64",
         "type": "integer"
        },
        {
         "name": "nearby_distance",
         "rawType": "float64",
         "type": "float"
        },
        {
         "name": "_ride_code_support",
         "rawType": "bool",
         "type": "boolean"
        }
       ],
       "conversionMethod": "pd.DataFrame",
       "ref": "c8cae07c-44a8-4c7b-98a3-d148c4b6770a",
       "rows": [
        [
         "9",
         "10",
         "C/ 60, NÚMERO 25",
         "ELECTRICBIKESTATION",
         "41.3467746",
         "2.1436235",
         null,
         "C/ 60, NÚMERO 25",
         "03-Sants-Montjuïc/12-la Marina del Prat Vermell",
         "8040.0",
         "43",
         "True",
         "10",
         "1000.0",
         "True"
        ],
        [
         "10",
         "11",
         "PG. MARITIM, 11 (DAVANT PL. BRUGADA)",
         "ELECTRICBIKESTATION",
         "41.382398",
         "2.194294",
         null,
         "PG. MARITIM, 11 (DAVANT PL. BRUGADA)",
         "01-CiutatVella/03-la Barceloneta",
         "8003.0",
         "35",
         "True",
         "11",
         "1000.0",
         "True"
        ],
        [
         "53",
         "59",
         "C/ AGUSTÍ DURAN I SANPERE, 1",
         "ELECTRICBIKESTATION",
         "41.38138153977469",
         "2.16807754829512",
         null,
         "C/ AGUSTÍ DURAN I SANPERE, 1",
         "01-CiutatVella/01-el Raval",
         "8001.0",
         "22",
         "True",
         "59",
         "1000.0",
         "True"
        ],
        [
         "259",
         "271",
         "VIA BARCINO, 69",
         "ELECTRICBIKESTATION",
         "41.4519872",
         "2.1935229",
         null,
         "VIA BARCINO, 69",
         "09-SantAndreu/57-la Trinitat Vella",
         "8033.0",
         "15",
         "True",
         "271",
         "1000.0",
         "True"
        ],
        [
         "338",
         "350",
         "C/ LONDRES, 63",
         "ELECTRICBIKESTATION",
         "41.391756",
         "2.148291",
         null,
         "C/ LONDRES, 63",
         "02-Eixample/08-l'Antiga Esquerra de l'Eixample",
         "8036.0",
         "31",
         "True",
         "350",
         "1000.0",
         "True"
        ],
        [
         "369",
         "381",
         "C/ AGUSTÍ DURAN I SANPERE, 10",
         "ELECTRICBIKESTATION",
         "41.381635534627016",
         "2.1677294668647606",
         null,
         "C/ AGUSTÍ DURAN I SANPERE, 10",
         "01-CiutatVella/01-el Raval",
         "8001.0",
         "40",
         "True",
         "381",
         "1000.0",
         "True"
        ],
        [
         "507",
         "527",
         "PG. OLIMPIC, 8",
         "ELECTRICBIKESTATION",
         "41.36197290053919",
         "2.154321610450753",
         null,
         "PG. OLIMPIC, 8",
         "03-Sants-Montjuïc/11-el Poble-sec",
         "8038.0",
         "36",
         "True",
         "527",
         "1000.0",
         "True"
        ],
        [
         "513",
         "542",
         "Copa América Barcelona - 542",
         "VALET",
         "41.3745380911102",
         "2.189216913266181",
         null,
         "Copa América Barcelona 2024",
         null,
         null,
         "1",
         "False",
         "9000",
         "1.0",
         "True"
        ],
        [
         "514",
         "543",
         "Copa América Barcelona - 543",
         "VALET",
         "41.38382985640722",
         "2.191370993848407",
         null,
         "Copa América Barcelona 2024",
         null,
         null,
         "1",
         "False",
         "9001",
         "1.0",
         "True"
        ],
        [
         "515",
         "544",
         "C/ MONTFAR, 1",
         "ELECTRICBIKESTATION",
         "41.37049",
         "2.148729",
         null,
         "C/ MONTFAR, 1",
         "03-Sants-Montjuïc/14-la Font de la Guatlla",
         "8004.0",
         "24",
         "True",
         "520",
         "1000.0",
         "True"
        ]
       ],
       "shape": {
        "columns": 14,
        "rows": 10
       }
      },
      "text/html": [
       "<div>\n",
       "<style scoped>\n",
       "    .dataframe tbody tr th:only-of-type {\n",
       "        vertical-align: middle;\n",
       "    }\n",
       "\n",
       "    .dataframe tbody tr th {\n",
       "        vertical-align: top;\n",
       "    }\n",
       "\n",
       "    .dataframe thead th {\n",
       "        text-align: right;\n",
       "    }\n",
       "</style>\n",
       "<table border=\"1\" class=\"dataframe\">\n",
       "  <thead>\n",
       "    <tr style=\"text-align: right;\">\n",
       "      <th></th>\n",
       "      <th>station_id</th>\n",
       "      <th>name</th>\n",
       "      <th>physical_configuration</th>\n",
       "      <th>lat</th>\n",
       "      <th>lon</th>\n",
       "      <th>altitude</th>\n",
       "      <th>address</th>\n",
       "      <th>cross_street</th>\n",
       "      <th>post_code</th>\n",
       "      <th>capacity</th>\n",
       "      <th>is_charging_station</th>\n",
       "      <th>short_name</th>\n",
       "      <th>nearby_distance</th>\n",
       "      <th>_ride_code_support</th>\n",
       "    </tr>\n",
       "  </thead>\n",
       "  <tbody>\n",
       "    <tr>\n",
       "      <th>9</th>\n",
       "      <td>10</td>\n",
       "      <td>C/ 60, NÚMERO 25</td>\n",
       "      <td>ELECTRICBIKESTATION</td>\n",
       "      <td>41.346775</td>\n",
       "      <td>2.143623</td>\n",
       "      <td>NaN</td>\n",
       "      <td>C/ 60, NÚMERO 25</td>\n",
       "      <td>03-Sants-Montjuïc/12-la Marina del Prat Vermell</td>\n",
       "      <td>8040.0</td>\n",
       "      <td>43</td>\n",
       "      <td>True</td>\n",
       "      <td>10</td>\n",
       "      <td>1000.0</td>\n",
       "      <td>True</td>\n",
       "    </tr>\n",
       "    <tr>\n",
       "      <th>10</th>\n",
       "      <td>11</td>\n",
       "      <td>PG. MARITIM, 11 (DAVANT PL. BRUGADA)</td>\n",
       "      <td>ELECTRICBIKESTATION</td>\n",
       "      <td>41.382398</td>\n",
       "      <td>2.194294</td>\n",
       "      <td>NaN</td>\n",
       "      <td>PG. MARITIM, 11 (DAVANT PL. BRUGADA)</td>\n",
       "      <td>01-CiutatVella/03-la Barceloneta</td>\n",
       "      <td>8003.0</td>\n",
       "      <td>35</td>\n",
       "      <td>True</td>\n",
       "      <td>11</td>\n",
       "      <td>1000.0</td>\n",
       "      <td>True</td>\n",
       "    </tr>\n",
       "    <tr>\n",
       "      <th>53</th>\n",
       "      <td>59</td>\n",
       "      <td>C/ AGUSTÍ DURAN I SANPERE, 1</td>\n",
       "      <td>ELECTRICBIKESTATION</td>\n",
       "      <td>41.381382</td>\n",
       "      <td>2.168078</td>\n",
       "      <td>NaN</td>\n",
       "      <td>C/ AGUSTÍ DURAN I SANPERE, 1</td>\n",
       "      <td>01-CiutatVella/01-el Raval</td>\n",
       "      <td>8001.0</td>\n",
       "      <td>22</td>\n",
       "      <td>True</td>\n",
       "      <td>59</td>\n",
       "      <td>1000.0</td>\n",
       "      <td>True</td>\n",
       "    </tr>\n",
       "    <tr>\n",
       "      <th>259</th>\n",
       "      <td>271</td>\n",
       "      <td>VIA BARCINO, 69</td>\n",
       "      <td>ELECTRICBIKESTATION</td>\n",
       "      <td>41.451987</td>\n",
       "      <td>2.193523</td>\n",
       "      <td>NaN</td>\n",
       "      <td>VIA BARCINO, 69</td>\n",
       "      <td>09-SantAndreu/57-la Trinitat Vella</td>\n",
       "      <td>8033.0</td>\n",
       "      <td>15</td>\n",
       "      <td>True</td>\n",
       "      <td>271</td>\n",
       "      <td>1000.0</td>\n",
       "      <td>True</td>\n",
       "    </tr>\n",
       "    <tr>\n",
       "      <th>338</th>\n",
       "      <td>350</td>\n",
       "      <td>C/ LONDRES, 63</td>\n",
       "      <td>ELECTRICBIKESTATION</td>\n",
       "      <td>41.391756</td>\n",
       "      <td>2.148291</td>\n",
       "      <td>NaN</td>\n",
       "      <td>C/ LONDRES, 63</td>\n",
       "      <td>02-Eixample/08-l'Antiga Esquerra de l'Eixample</td>\n",
       "      <td>8036.0</td>\n",
       "      <td>31</td>\n",
       "      <td>True</td>\n",
       "      <td>350</td>\n",
       "      <td>1000.0</td>\n",
       "      <td>True</td>\n",
       "    </tr>\n",
       "    <tr>\n",
       "      <th>369</th>\n",
       "      <td>381</td>\n",
       "      <td>C/ AGUSTÍ DURAN I SANPERE, 10</td>\n",
       "      <td>ELECTRICBIKESTATION</td>\n",
       "      <td>41.381636</td>\n",
       "      <td>2.167729</td>\n",
       "      <td>NaN</td>\n",
       "      <td>C/ AGUSTÍ DURAN I SANPERE, 10</td>\n",
       "      <td>01-CiutatVella/01-el Raval</td>\n",
       "      <td>8001.0</td>\n",
       "      <td>40</td>\n",
       "      <td>True</td>\n",
       "      <td>381</td>\n",
       "      <td>1000.0</td>\n",
       "      <td>True</td>\n",
       "    </tr>\n",
       "    <tr>\n",
       "      <th>507</th>\n",
       "      <td>527</td>\n",
       "      <td>PG. OLIMPIC, 8</td>\n",
       "      <td>ELECTRICBIKESTATION</td>\n",
       "      <td>41.361973</td>\n",
       "      <td>2.154322</td>\n",
       "      <td>NaN</td>\n",
       "      <td>PG. OLIMPIC, 8</td>\n",
       "      <td>03-Sants-Montjuïc/11-el Poble-sec</td>\n",
       "      <td>8038.0</td>\n",
       "      <td>36</td>\n",
       "      <td>True</td>\n",
       "      <td>527</td>\n",
       "      <td>1000.0</td>\n",
       "      <td>True</td>\n",
       "    </tr>\n",
       "    <tr>\n",
       "      <th>513</th>\n",
       "      <td>542</td>\n",
       "      <td>Copa América Barcelona - 542</td>\n",
       "      <td>VALET</td>\n",
       "      <td>41.374538</td>\n",
       "      <td>2.189217</td>\n",
       "      <td>NaN</td>\n",
       "      <td>Copa América Barcelona 2024</td>\n",
       "      <td>NaN</td>\n",
       "      <td>NaN</td>\n",
       "      <td>1</td>\n",
       "      <td>False</td>\n",
       "      <td>9000</td>\n",
       "      <td>1.0</td>\n",
       "      <td>True</td>\n",
       "    </tr>\n",
       "    <tr>\n",
       "      <th>514</th>\n",
       "      <td>543</td>\n",
       "      <td>Copa América Barcelona - 543</td>\n",
       "      <td>VALET</td>\n",
       "      <td>41.383830</td>\n",
       "      <td>2.191371</td>\n",
       "      <td>NaN</td>\n",
       "      <td>Copa América Barcelona 2024</td>\n",
       "      <td>NaN</td>\n",
       "      <td>NaN</td>\n",
       "      <td>1</td>\n",
       "      <td>False</td>\n",
       "      <td>9001</td>\n",
       "      <td>1.0</td>\n",
       "      <td>True</td>\n",
       "    </tr>\n",
       "    <tr>\n",
       "      <th>515</th>\n",
       "      <td>544</td>\n",
       "      <td>C/ MONTFAR, 1</td>\n",
       "      <td>ELECTRICBIKESTATION</td>\n",
       "      <td>41.370490</td>\n",
       "      <td>2.148729</td>\n",
       "      <td>NaN</td>\n",
       "      <td>C/ MONTFAR, 1</td>\n",
       "      <td>03-Sants-Montjuïc/14-la Font de la Guatlla</td>\n",
       "      <td>8004.0</td>\n",
       "      <td>24</td>\n",
       "      <td>True</td>\n",
       "      <td>520</td>\n",
       "      <td>1000.0</td>\n",
       "      <td>True</td>\n",
       "    </tr>\n",
       "  </tbody>\n",
       "</table>\n",
       "</div>"
      ],
      "text/plain": [
       "     station_id                                  name physical_configuration  \\\n",
       "9            10                      C/ 60, NÚMERO 25    ELECTRICBIKESTATION   \n",
       "10           11  PG. MARITIM, 11 (DAVANT PL. BRUGADA)    ELECTRICBIKESTATION   \n",
       "53           59          C/ AGUSTÍ DURAN I SANPERE, 1    ELECTRICBIKESTATION   \n",
       "259         271                       VIA BARCINO, 69    ELECTRICBIKESTATION   \n",
       "338         350                        C/ LONDRES, 63    ELECTRICBIKESTATION   \n",
       "369         381         C/ AGUSTÍ DURAN I SANPERE, 10    ELECTRICBIKESTATION   \n",
       "507         527                        PG. OLIMPIC, 8    ELECTRICBIKESTATION   \n",
       "513         542          Copa América Barcelona - 542                  VALET   \n",
       "514         543          Copa América Barcelona - 543                  VALET   \n",
       "515         544                         C/ MONTFAR, 1    ELECTRICBIKESTATION   \n",
       "\n",
       "           lat       lon  altitude                               address  \\\n",
       "9    41.346775  2.143623       NaN                      C/ 60, NÚMERO 25   \n",
       "10   41.382398  2.194294       NaN  PG. MARITIM, 11 (DAVANT PL. BRUGADA)   \n",
       "53   41.381382  2.168078       NaN          C/ AGUSTÍ DURAN I SANPERE, 1   \n",
       "259  41.451987  2.193523       NaN                       VIA BARCINO, 69   \n",
       "338  41.391756  2.148291       NaN                        C/ LONDRES, 63   \n",
       "369  41.381636  2.167729       NaN         C/ AGUSTÍ DURAN I SANPERE, 10   \n",
       "507  41.361973  2.154322       NaN                        PG. OLIMPIC, 8   \n",
       "513  41.374538  2.189217       NaN           Copa América Barcelona 2024   \n",
       "514  41.383830  2.191371       NaN           Copa América Barcelona 2024   \n",
       "515  41.370490  2.148729       NaN                         C/ MONTFAR, 1   \n",
       "\n",
       "                                        cross_street  post_code  capacity  \\\n",
       "9    03-Sants-Montjuïc/12-la Marina del Prat Vermell     8040.0        43   \n",
       "10                  01-CiutatVella/03-la Barceloneta     8003.0        35   \n",
       "53                        01-CiutatVella/01-el Raval     8001.0        22   \n",
       "259               09-SantAndreu/57-la Trinitat Vella     8033.0        15   \n",
       "338   02-Eixample/08-l'Antiga Esquerra de l'Eixample     8036.0        31   \n",
       "369                       01-CiutatVella/01-el Raval     8001.0        40   \n",
       "507                03-Sants-Montjuïc/11-el Poble-sec     8038.0        36   \n",
       "513                                              NaN        NaN         1   \n",
       "514                                              NaN        NaN         1   \n",
       "515       03-Sants-Montjuïc/14-la Font de la Guatlla     8004.0        24   \n",
       "\n",
       "     is_charging_station  short_name  nearby_distance  _ride_code_support  \n",
       "9                   True          10           1000.0                True  \n",
       "10                  True          11           1000.0                True  \n",
       "53                  True          59           1000.0                True  \n",
       "259                 True         271           1000.0                True  \n",
       "338                 True         350           1000.0                True  \n",
       "369                 True         381           1000.0                True  \n",
       "507                 True         527           1000.0                True  \n",
       "513                False        9000              1.0                True  \n",
       "514                False        9001              1.0                True  \n",
       "515                 True         520           1000.0                True  "
      ]
     },
     "execution_count": 11,
     "metadata": {},
     "output_type": "execute_result"
    }
   ],
   "source": [
    "# Filtrar las filas que tienen valores NaN\n",
    "filas_con_nan = Info_bicing_csv[Info_bicing_csv.isnull().any(axis=1)]\n",
    "filas_con_nan"
   ]
  },
  {
   "cell_type": "code",
   "execution_count": null,
   "metadata": {},
   "outputs": [
    {
     "data": {
      "application/vnd.microsoft.datawrangler.viewer.v0+json": {
       "columns": [
        {
         "name": "index",
         "rawType": "int64",
         "type": "integer"
        },
        {
         "name": "station_id",
         "rawType": "int64",
         "type": "integer"
        },
        {
         "name": "name",
         "rawType": "object",
         "type": "string"
        },
        {
         "name": "physical_configuration",
         "rawType": "object",
         "type": "string"
        },
        {
         "name": "lat",
         "rawType": "float64",
         "type": "float"
        },
        {
         "name": "lon",
         "rawType": "float64",
         "type": "float"
        },
        {
         "name": "altitude",
         "rawType": "float64",
         "type": "float"
        },
        {
         "name": "address",
         "rawType": "object",
         "type": "string"
        },
        {
         "name": "cross_street",
         "rawType": "object",
         "type": "unknown"
        },
        {
         "name": "post_code",
         "rawType": "float64",
         "type": "float"
        },
        {
         "name": "capacity",
         "rawType": "int64",
         "type": "integer"
        },
        {
         "name": "is_charging_station",
         "rawType": "bool",
         "type": "boolean"
        },
        {
         "name": "short_name",
         "rawType": "int64",
         "type": "integer"
        },
        {
         "name": "nearby_distance",
         "rawType": "float64",
         "type": "float"
        },
        {
         "name": "_ride_code_support",
         "rawType": "bool",
         "type": "boolean"
        }
       ],
       "conversionMethod": "pd.DataFrame",
       "ref": "155b9c8c-9564-43f7-b62d-c15b773723fb",
       "rows": [
        [
         "513",
         "542",
         "Copa América Barcelona - 542",
         "VALET",
         "41.3745380911102",
         "2.189216913266181",
         null,
         "Copa América Barcelona 2024",
         null,
         null,
         "1",
         "False",
         "9000",
         "1.0",
         "True"
        ],
        [
         "514",
         "543",
         "Copa América Barcelona - 542",
         "VALET",
         "41.38382985640722",
         "2.191370993848407",
         null,
         "Copa América Barcelona 2024",
         null,
         null,
         "1",
         "False",
         "9001",
         "1.0",
         "True"
        ]
       ],
       "shape": {
        "columns": 14,
        "rows": 2
       }
      },
      "text/html": [
       "<div>\n",
       "<style scoped>\n",
       "    .dataframe tbody tr th:only-of-type {\n",
       "        vertical-align: middle;\n",
       "    }\n",
       "\n",
       "    .dataframe tbody tr th {\n",
       "        vertical-align: top;\n",
       "    }\n",
       "\n",
       "    .dataframe thead th {\n",
       "        text-align: right;\n",
       "    }\n",
       "</style>\n",
       "<table border=\"1\" class=\"dataframe\">\n",
       "  <thead>\n",
       "    <tr style=\"text-align: right;\">\n",
       "      <th></th>\n",
       "      <th>station_id</th>\n",
       "      <th>name</th>\n",
       "      <th>physical_configuration</th>\n",
       "      <th>lat</th>\n",
       "      <th>lon</th>\n",
       "      <th>altitude</th>\n",
       "      <th>address</th>\n",
       "      <th>cross_street</th>\n",
       "      <th>post_code</th>\n",
       "      <th>capacity</th>\n",
       "      <th>is_charging_station</th>\n",
       "      <th>short_name</th>\n",
       "      <th>nearby_distance</th>\n",
       "      <th>_ride_code_support</th>\n",
       "    </tr>\n",
       "  </thead>\n",
       "  <tbody>\n",
       "    <tr>\n",
       "      <th>513</th>\n",
       "      <td>542</td>\n",
       "      <td>Copa América Barcelona - 542</td>\n",
       "      <td>VALET</td>\n",
       "      <td>41.374538</td>\n",
       "      <td>2.189217</td>\n",
       "      <td>NaN</td>\n",
       "      <td>Copa América Barcelona 2024</td>\n",
       "      <td>NaN</td>\n",
       "      <td>NaN</td>\n",
       "      <td>1</td>\n",
       "      <td>False</td>\n",
       "      <td>9000</td>\n",
       "      <td>1.0</td>\n",
       "      <td>True</td>\n",
       "    </tr>\n",
       "    <tr>\n",
       "      <th>514</th>\n",
       "      <td>543</td>\n",
       "      <td>Copa América Barcelona - 542</td>\n",
       "      <td>VALET</td>\n",
       "      <td>41.383830</td>\n",
       "      <td>2.191371</td>\n",
       "      <td>NaN</td>\n",
       "      <td>Copa América Barcelona 2024</td>\n",
       "      <td>NaN</td>\n",
       "      <td>NaN</td>\n",
       "      <td>1</td>\n",
       "      <td>False</td>\n",
       "      <td>9001</td>\n",
       "      <td>1.0</td>\n",
       "      <td>True</td>\n",
       "    </tr>\n",
       "  </tbody>\n",
       "</table>\n",
       "</div>"
      ],
      "text/plain": [
       "     station_id                          name physical_configuration  \\\n",
       "513         542  Copa América Barcelona - 542                  VALET   \n",
       "514         543  Copa América Barcelona - 542                  VALET   \n",
       "\n",
       "           lat       lon  altitude                      address cross_street  \\\n",
       "513  41.374538  2.189217       NaN  Copa América Barcelona 2024          NaN   \n",
       "514  41.383830  2.191371       NaN  Copa América Barcelona 2024          NaN   \n",
       "\n",
       "     post_code  capacity  is_charging_station  short_name  nearby_distance  \\\n",
       "513        NaN         1                False        9000              1.0   \n",
       "514        NaN         1                False        9001              1.0   \n",
       "\n",
       "     _ride_code_support  \n",
       "513                True  \n",
       "514                True  "
      ]
     },
     "execution_count": 18,
     "metadata": {},
     "output_type": "execute_result"
    }
   ],
   "source": [
    "Info_bicing_csv[Info_bicing_csv['address']=='Copa América Barcelona 2024'].drop(inplace=True)"
   ]
  },
  {
   "cell_type": "code",
   "execution_count": 16,
   "metadata": {},
   "outputs": [
    {
     "data": {
      "application/vnd.microsoft.datawrangler.viewer.v0+json": {
       "columns": [
        {
         "name": "index",
         "rawType": "int64",
         "type": "integer"
        },
        {
         "name": "station_id",
         "rawType": "int64",
         "type": "integer"
        },
        {
         "name": "name",
         "rawType": "object",
         "type": "string"
        },
        {
         "name": "physical_configuration",
         "rawType": "object",
         "type": "string"
        },
        {
         "name": "lat",
         "rawType": "float64",
         "type": "float"
        },
        {
         "name": "lon",
         "rawType": "float64",
         "type": "float"
        },
        {
         "name": "altitude",
         "rawType": "float64",
         "type": "float"
        },
        {
         "name": "address",
         "rawType": "object",
         "type": "string"
        },
        {
         "name": "cross_street",
         "rawType": "object",
         "type": "string"
        },
        {
         "name": "post_code",
         "rawType": "float64",
         "type": "float"
        },
        {
         "name": "capacity",
         "rawType": "int64",
         "type": "integer"
        },
        {
         "name": "is_charging_station",
         "rawType": "bool",
         "type": "boolean"
        },
        {
         "name": "short_name",
         "rawType": "int64",
         "type": "integer"
        },
        {
         "name": "nearby_distance",
         "rawType": "float64",
         "type": "float"
        },
        {
         "name": "_ride_code_support",
         "rawType": "bool",
         "type": "boolean"
        }
       ],
       "conversionMethod": "pd.DataFrame",
       "ref": "3a91b484-9538-4096-b25f-a23c93df6fc8",
       "rows": [],
       "shape": {
        "columns": 14,
        "rows": 0
       }
      },
      "text/html": [
       "<div>\n",
       "<style scoped>\n",
       "    .dataframe tbody tr th:only-of-type {\n",
       "        vertical-align: middle;\n",
       "    }\n",
       "\n",
       "    .dataframe tbody tr th {\n",
       "        vertical-align: top;\n",
       "    }\n",
       "\n",
       "    .dataframe thead th {\n",
       "        text-align: right;\n",
       "    }\n",
       "</style>\n",
       "<table border=\"1\" class=\"dataframe\">\n",
       "  <thead>\n",
       "    <tr style=\"text-align: right;\">\n",
       "      <th></th>\n",
       "      <th>station_id</th>\n",
       "      <th>name</th>\n",
       "      <th>physical_configuration</th>\n",
       "      <th>lat</th>\n",
       "      <th>lon</th>\n",
       "      <th>altitude</th>\n",
       "      <th>address</th>\n",
       "      <th>cross_street</th>\n",
       "      <th>post_code</th>\n",
       "      <th>capacity</th>\n",
       "      <th>is_charging_station</th>\n",
       "      <th>short_name</th>\n",
       "      <th>nearby_distance</th>\n",
       "      <th>_ride_code_support</th>\n",
       "    </tr>\n",
       "  </thead>\n",
       "  <tbody>\n",
       "  </tbody>\n",
       "</table>\n",
       "</div>"
      ],
      "text/plain": [
       "Empty DataFrame\n",
       "Columns: [station_id, name, physical_configuration, lat, lon, altitude, address, cross_street, post_code, capacity, is_charging_station, short_name, nearby_distance, _ride_code_support]\n",
       "Index: []"
      ]
     },
     "execution_count": 16,
     "metadata": {},
     "output_type": "execute_result"
    }
   ],
   "source": [
    "Info_bicing_csv[Info_bicing_csv['name']=='PG. MARITIM, 11 (DAVANT PL. BRUGADA)']"
   ]
  },
  {
   "cell_type": "code",
   "execution_count": 68,
   "metadata": {},
   "outputs": [
    {
     "data": {
      "text/plain": [
       "station_id                 0\n",
       "name                       0\n",
       "physical_configuration     0\n",
       "lat                        0\n",
       "lon                        0\n",
       "altitude                  10\n",
       "address                    0\n",
       "cross_street               2\n",
       "post_code                  2\n",
       "capacity                   0\n",
       "is_charging_station        0\n",
       "short_name                 0\n",
       "nearby_distance            0\n",
       "_ride_code_support         0\n",
       "dtype: int64"
      ]
     },
     "execution_count": 68,
     "metadata": {},
     "output_type": "execute_result"
    }
   ],
   "source": [
    "Info_bicing_csv.isna().sum()"
   ]
  },
  {
   "cell_type": "markdown",
   "metadata": {},
   "source": [
    "# Cuestiones de interés sobre los datos"
   ]
  },
  {
   "cell_type": "markdown",
   "metadata": {},
   "source": [
    "# Enlaces de interés\n",
    "- https://opendata-ajuntament.barcelona.cat/es/\n",
    "- https://chat.deepseek.com/"
   ]
  }
 ],
 "metadata": {
  "kernelspec": {
   "display_name": "Python 3",
   "language": "python",
   "name": "python3"
  },
  "language_info": {
   "codemirror_mode": {
    "name": "ipython",
    "version": 3
   },
   "file_extension": ".py",
   "mimetype": "text/x-python",
   "name": "python",
   "nbconvert_exporter": "python",
   "pygments_lexer": "ipython3",
   "version": "3.13.2"
  }
 },
 "nbformat": 4,
 "nbformat_minor": 2
}
