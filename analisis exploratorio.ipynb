{
 "cells": [
  {
   "cell_type": "markdown",
   "metadata": {},
   "source": [
    "# Selecciona el año de los datos que quieres cargar"
   ]
  },
  {
   "cell_type": "markdown",
   "metadata": {},
   "source": [
    "Estructura dataset:\n",
    "\n",
    "- Camp \tDescripció\n",
    "- last_updated \tTimestamp de l'arxiu\n",
    "- ttl \tTimeToLive de la resposta\n",
    "- data \tContenidor d'arrays d'informació d'estacions\n",
    "- stations \tArray de dades de cada estació\n",
    "- station_id \tIdentificador de l'estació\n",
    "- num_bikes_available \tNombre de bicicletes disponibles\n",
    "- num_bikes_available_types \tArray de tipus de bicicletes disponibles\n",
    "- mechanical \tNombre de bicicletes mecàniques disponibles\n",
    "- ebike \tNombre de bicicletes elèctriques disponibles\n",
    "- num_docks_available \tNombre de ancoratges disponibles\n",
    "- is_installed \tL'estació està correctament instalada (0-NO,1-SI)\n",
    "- is_renting \tL'estació està proporcionant bicicletes correctament\n",
    "- is_returning \tL'estació està ancorant bicicletes correctament\n",
    "- last_reported \tTimestamp de la informació de l'estació\n",
    "- is_charging_station \tL'estació té capacitat de càrrega de bicicletes elèctriques\n",
    "- status \tEstat de l'estació (IN_SERVICE=En servei, CLOSED=Tancada"
   ]
  },
  {
   "cell_type": "code",
   "execution_count": null,
   "metadata": {},
   "outputs": [],
   "source": [
    "# Librerias para usar con el código\n",
    "import os\n",
    "import pandas as pd\n",
    "import numpy as np\n",
    "import seaborn as sns\n",
    "import plotly as fx\n",
    "import matplotlib as plt"
   ]
  },
  {
   "cell_type": "code",
   "execution_count": 27,
   "metadata": {},
   "outputs": [
    {
     "name": "stderr",
     "output_type": "stream",
     "text": [
      "C:\\Users\\isana\\AppData\\Local\\Temp\\ipykernel_23228\\4227317975.py:16: DtypeWarning: Columns (6) have mixed types. Specify dtype option on import or set low_memory=False.\n",
      "  df = pd.read_csv(ruta_archivo)\n",
      "C:\\Users\\isana\\AppData\\Local\\Temp\\ipykernel_23228\\4227317975.py:16: DtypeWarning: Columns (6) have mixed types. Specify dtype option on import or set low_memory=False.\n",
      "  df = pd.read_csv(ruta_archivo)\n",
      "C:\\Users\\isana\\AppData\\Local\\Temp\\ipykernel_23228\\4227317975.py:16: DtypeWarning: Columns (6) have mixed types. Specify dtype option on import or set low_memory=False.\n",
      "  df = pd.read_csv(ruta_archivo)\n",
      "C:\\Users\\isana\\AppData\\Local\\Temp\\ipykernel_23228\\4227317975.py:16: DtypeWarning: Columns (6) have mixed types. Specify dtype option on import or set low_memory=False.\n",
      "  df = pd.read_csv(ruta_archivo)\n",
      "C:\\Users\\isana\\AppData\\Local\\Temp\\ipykernel_23228\\4227317975.py:16: DtypeWarning: Columns (6) have mixed types. Specify dtype option on import or set low_memory=False.\n",
      "  df = pd.read_csv(ruta_archivo)\n"
     ]
    },
    {
     "name": "stdout",
     "output_type": "stream",
     "text": [
      "Archivos del año 2024 combinados exitosamente en un dataframe llamado 'dataframe_final_2024'.\n",
      "          station_id  num_bikes_available  \\\n",
      "0                1.0                 12.0   \n",
      "1                2.0                 11.0   \n",
      "2                3.0                  5.0   \n",
      "3                4.0                  8.0   \n",
      "4                5.0                 11.0   \n",
      "...              ...                  ...   \n",
      "22063100       515.0                 12.0   \n",
      "22063101       516.0                  7.0   \n",
      "22063102       517.0                  6.0   \n",
      "22063103       518.0                  2.0   \n",
      "22063104       519.0                 11.0   \n",
      "\n",
      "          num_bikes_available_types.mechanical  \\\n",
      "0                                          2.0   \n",
      "1                                         10.0   \n",
      "2                                          5.0   \n",
      "3                                          8.0   \n",
      "4                                         11.0   \n",
      "...                                        ...   \n",
      "22063100                                   9.0   \n",
      "22063101                                   5.0   \n",
      "22063102                                   3.0   \n",
      "22063103                                   1.0   \n",
      "22063104                                   1.0   \n",
      "\n",
      "          num_bikes_available_types.ebike  num_docks_available  last_reported  \\\n",
      "0                                    10.0                 33.0   1.704064e+09   \n",
      "1                                     1.0                 15.0   1.704063e+09   \n",
      "2                                     0.0                 20.0   1.704063e+09   \n",
      "3                                     0.0                 11.0   1.704063e+09   \n",
      "4                                     0.0                 28.0   1.704063e+09   \n",
      "...                                   ...                  ...            ...   \n",
      "22063100                              3.0                 12.0   1.717194e+09   \n",
      "22063101                              2.0                 14.0   1.717194e+09   \n",
      "22063102                              3.0                 14.0   1.717193e+09   \n",
      "22063103                              1.0                 23.0   1.717194e+09   \n",
      "22063104                             10.0                 13.0   1.717194e+09   \n",
      "\n",
      "         is_charging_station      status  is_installed  is_renting  \\\n",
      "0                       True  IN_SERVICE           1.0         1.0   \n",
      "1                       True  IN_SERVICE           1.0         1.0   \n",
      "2                       True  IN_SERVICE           1.0         1.0   \n",
      "3                       True  IN_SERVICE           1.0         1.0   \n",
      "4                       True  IN_SERVICE           1.0         1.0   \n",
      "...                      ...         ...           ...         ...   \n",
      "22063100                True  IN_SERVICE           1.0         1.0   \n",
      "22063101                True  IN_SERVICE           1.0         1.0   \n",
      "22063102                True  IN_SERVICE           1.0         1.0   \n",
      "22063103                True  IN_SERVICE           1.0         1.0   \n",
      "22063104                True  IN_SERVICE           1.0         1.0   \n",
      "\n",
      "          is_returning  traffic  last_updated  ttl  V1  \n",
      "0                  1.0      NaN  1.704064e+09  0.0 NaN  \n",
      "1                  1.0      NaN  1.704064e+09  0.0 NaN  \n",
      "2                  1.0      NaN  1.704064e+09  0.0 NaN  \n",
      "3                  1.0      NaN  1.704064e+09  0.0 NaN  \n",
      "4                  1.0      NaN  1.704064e+09  0.0 NaN  \n",
      "...                ...      ...           ...  ...  ..  \n",
      "22063100           1.0      NaN  1.717194e+09  0.0 NaN  \n",
      "22063101           1.0      NaN  1.717194e+09  0.0 NaN  \n",
      "22063102           1.0      NaN  1.717194e+09  0.0 NaN  \n",
      "22063103           1.0      NaN  1.717194e+09  0.0 NaN  \n",
      "22063104           1.0      NaN  1.717194e+09  0.0 NaN  \n",
      "\n",
      "[22063105 rows x 15 columns]\n"
     ]
    }
   ],
   "source": [
    "# Ruta de la carpeta con los archivos CSV\n",
    "carpeta_origen = \"C:/Users/isana/Desktop/Datos bicing\"\n",
    "\n",
    "# Solicitar al usuario el año a filtrar\n",
    "año_filtrar = input(\"Introduce el año que deseas filtrar: \")\n",
    "\n",
    "# Crear una lista para almacenar los dataframes\n",
    "dataframes = []\n",
    "\n",
    "# Iterar sobre los archivos en la carpeta origen\n",
    "for archivo in os.listdir(carpeta_origen):\n",
    "    # Verificar si el archivo empieza con el año indicado y es un CSV\n",
    "    if archivo.startswith(año_filtrar) and archivo.endswith(\".csv\"):\n",
    "        # Leer el archivo CSV y añadirlo a la lista de dataframes\n",
    "        ruta_archivo = os.path.join(carpeta_origen, archivo)\n",
    "        df = pd.read_csv(ruta_archivo)\n",
    "        dataframes.append(df)\n",
    "\n",
    "# Combinar todos los dataframes en uno solo\n",
    "dataframe_final = pd.concat(dataframes, ignore_index=True)\n",
    "\n",
    "# Asignar el dataframe combinado a una variable cuyo nombre incluye el año\n",
    "nombre_variable = f\"dataframe_final_{año_filtrar}\"\n",
    "globals()[nombre_variable] = dataframe_final\n",
    "\n",
    "print(f\"Archivos del año {año_filtrar} combinados exitosamente en un dataframe llamado '{nombre_variable}'.\")\n",
    "print(globals()[nombre_variable])"
   ]
  },
  {
   "cell_type": "code",
   "execution_count": null,
   "metadata": {},
   "outputs": [],
   "source": [
    "# Transformar las dos variables timestamp en formato segundos a formato fecha\n",
    "dataframe_final_2024['last_reported']=pd.to_datetime(dataframe_final_2024['last_reported'], unit='s')\n",
    "dataframe_final_2024['last_updated']=pd.to_datetime(dataframe_final_2024['last_updated'], unit='s')"
   ]
  },
  {
   "cell_type": "code",
   "execution_count": null,
   "metadata": {},
   "outputs": [
    {
     "data": {
      "text/plain": [
       "station_id                                    20\n",
       "num_bikes_available                           20\n",
       "num_bikes_available_types.mechanical          20\n",
       "num_bikes_available_types.ebike               20\n",
       "num_docks_available                           20\n",
       "last_reported                                 29\n",
       "is_charging_station                           20\n",
       "status                                        20\n",
       "is_installed                                  20\n",
       "is_renting                                    20\n",
       "is_returning                                  20\n",
       "traffic                                 22063105\n",
       "last_updated                                  20\n",
       "ttl                                           20\n",
       "V1                                      22063105\n",
       "dtype: int64"
      ]
     },
     "execution_count": 42,
     "metadata": {},
     "output_type": "execute_result"
    }
   ],
   "source": [
    "# Contar todos los NA que tenga el dataframe\n",
    "dataframe_2024.isna().sum()"
   ]
  }
 ],
 "metadata": {
  "kernelspec": {
   "display_name": "Python 3",
   "language": "python",
   "name": "python3"
  },
  "language_info": {
   "codemirror_mode": {
    "name": "ipython",
    "version": 3
   },
   "file_extension": ".py",
   "mimetype": "text/x-python",
   "name": "python",
   "nbconvert_exporter": "python",
   "pygments_lexer": "ipython3",
   "version": "3.13.2"
  }
 },
 "nbformat": 4,
 "nbformat_minor": 2
}
