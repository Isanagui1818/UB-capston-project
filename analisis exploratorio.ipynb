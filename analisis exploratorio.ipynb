{
 "cells": [
  {
   "cell_type": "markdown",
   "metadata": {},
   "source": [
    "# Enlaces de interés\n",
    "- https://opendata-ajuntament.barcelona.cat/es/\n",
    "- https://chat.deepseek.com/"
   ]
  },
  {
   "cell_type": "markdown",
   "metadata": {},
   "source": [
    "## Datos de open data Barcelona:\n",
    "- https://opendata-ajuntament.barcelona.cat/data/es/dataset/mapa-base-guia\n",
    "- https://drive.google.com/drive/folders/1Ur9w40zYWJvo34eQ48IMbGKsHwKpSMWz?usp=sharing"
   ]
  },
  {
   "cell_type": "markdown",
   "metadata": {},
   "source": [
    "# Estructura datasets y carga de los datos"
   ]
  },
  {
   "cell_type": "markdown",
   "metadata": {},
   "source": [
    "Estructura dataset:\n",
    "\n",
    "- Camp \tDescripció\n",
    "- last_updated \tTimestamp de l'arxiu\n",
    "- ttl \tTimeToLive de la resposta\n",
    "- data \tContenidor d'arrays d'informació d'estacions\n",
    "- stations \tArray de dades de cada estació\n",
    "- station_id \tIdentificador de l'estació\n",
    "- num_bikes_available \tNombre de bicicletes disponibles\n",
    "- num_bikes_available_types \tArray de tipus de bicicletes disponibles\n",
    "- mechanical \tNombre de bicicletes mecàniques disponibles\n",
    "- ebike \tNombre de bicicletes elèctriques disponibles\n",
    "- num_docks_available \tNombre de ancoratges disponibles\n",
    "- is_installed \tL'estació està correctament instalada (0-NO,1-SI)\n",
    "- is_renting \tL'estació està proporcionant bicicletes correctament\n",
    "- is_returning \tL'estació està ancorant bicicletes correctament\n",
    "- last_reported \tTimestamp de la informació de l'estació\n",
    "- is_charging_station \tL'estació té capacitat de càrrega de bicicletes elèctriques\n",
    "- status \tEstat de l'estació (IN_SERVICE=En servei, CLOSED=Tancada"
   ]
  },
  {
   "cell_type": "markdown",
   "metadata": {},
   "source": [
    "Donde pone carpeta_origen debeis poner la ruta de vuestros datos guardados si quereis os podeis guardar en un archivo aparte vuestra ruta para no tenerla que escribir cada vez porque cada vez que yo actualice el archiv tendreís que volver a cargar los datos si copias y pegais la ruta de vuestro ordenador de forma directa recordar que Windows usa este tipo de barra como delimitador \\ y dará error teneís que usar esta barra / la del número (shit+7). Fijaros que sea como mi ruta de carpeta de origen."
   ]
  },
  {
   "cell_type": "code",
   "execution_count": 1,
   "metadata": {},
   "outputs": [],
   "source": [
    "# Librerias para usar con el código\n",
    "import numpy as np\n",
    "import seaborn as sns\n",
    "import plotly as fx\n",
    "import matplotlib as plt"
   ]
  },
  {
   "cell_type": "code",
   "execution_count": 7,
   "metadata": {},
   "outputs": [],
   "source": [
    "# Ruta de la carpeta con los archivos CSV en el portátil \n",
    "carpeta_origen = 'C:/Users/TITAN OSCURO/Desktop/Datos bicing'"
   ]
  },
  {
   "cell_type": "code",
   "execution_count": 2,
   "metadata": {},
   "outputs": [],
   "source": [
    "# Ruta de la carpeta con los archivos CSV en la torre\n",
    "carpeta_origen = \"C:/Users/isana/Desktop/Datos bicing\""
   ]
  },
  {
   "cell_type": "code",
   "execution_count": 8,
   "metadata": {},
   "outputs": [
    {
     "name": "stdout",
     "output_type": "stream",
     "text": [
      "Dataframe cargado exitosamente: Info_bicing_csv\n"
     ]
    }
   ],
   "source": [
    "import pandas as pd\n",
    "import os\n",
    "\n",
    "# Leer el archivo CSV y guardarlo en un dataframe\n",
    "ruta_archivo = os.path.join(carpeta_origen, 'Informacio_Estacions_Bicing_2025.csv')\n",
    "Info_bicing_csv = pd.read_csv(ruta_archivo)\n",
    "\n",
    "# Visualizar el contenido del dataframe\n",
    "print('Dataframe cargado exitosamente: Info_bicing_csv')"
   ]
  },
  {
   "cell_type": "markdown",
   "metadata": {},
   "source": [
    "Pongo esto para no tener que escribir todo el rato los años que elijo para ejecutar el código así copio y pego\n",
    "- años: 2024,2023,2022,2021,2020"
   ]
  },
  {
   "cell_type": "code",
   "execution_count": 4,
   "metadata": {},
   "outputs": [
    {
     "name": "stderr",
     "output_type": "stream",
     "text": [
      "C:\\Users\\TITAN OSCURO\\AppData\\Local\\Temp\\ipykernel_5492\\441575779.py:15: DtypeWarning: Columns (6) have mixed types. Specify dtype option on import or set low_memory=False.\n",
      "  df = pd.read_csv(ruta_archivo)\n",
      "C:\\Users\\TITAN OSCURO\\AppData\\Local\\Temp\\ipykernel_5492\\441575779.py:15: DtypeWarning: Columns (6) have mixed types. Specify dtype option on import or set low_memory=False.\n",
      "  df = pd.read_csv(ruta_archivo)\n",
      "C:\\Users\\TITAN OSCURO\\AppData\\Local\\Temp\\ipykernel_5492\\441575779.py:15: DtypeWarning: Columns (6) have mixed types. Specify dtype option on import or set low_memory=False.\n",
      "  df = pd.read_csv(ruta_archivo)\n",
      "C:\\Users\\TITAN OSCURO\\AppData\\Local\\Temp\\ipykernel_5492\\441575779.py:15: DtypeWarning: Columns (6) have mixed types. Specify dtype option on import or set low_memory=False.\n",
      "  df = pd.read_csv(ruta_archivo)\n",
      "C:\\Users\\TITAN OSCURO\\AppData\\Local\\Temp\\ipykernel_5492\\441575779.py:15: DtypeWarning: Columns (6) have mixed types. Specify dtype option on import or set low_memory=False.\n",
      "  df = pd.read_csv(ruta_archivo)\n"
     ]
    },
    {
     "name": "stdout",
     "output_type": "stream",
     "text": [
      "Archivos del año 2024 combinados exitosamente en un dataframe llamado 'dataframe_final_2024'.\n"
     ]
    },
    {
     "name": "stderr",
     "output_type": "stream",
     "text": [
      "C:\\Users\\TITAN OSCURO\\AppData\\Local\\Temp\\ipykernel_5492\\441575779.py:15: DtypeWarning: Columns (6) have mixed types. Specify dtype option on import or set low_memory=False.\n",
      "  df = pd.read_csv(ruta_archivo)\n",
      "C:\\Users\\TITAN OSCURO\\AppData\\Local\\Temp\\ipykernel_5492\\441575779.py:15: DtypeWarning: Columns (7) have mixed types. Specify dtype option on import or set low_memory=False.\n",
      "  df = pd.read_csv(ruta_archivo)\n"
     ]
    },
    {
     "name": "stdout",
     "output_type": "stream",
     "text": [
      "Archivos del año 2023 combinados exitosamente en un dataframe llamado 'dataframe_final_2023'.\n",
      "Archivos del año 2022 combinados exitosamente en un dataframe llamado 'dataframe_final_2022'.\n",
      "Archivos del año 2021 combinados exitosamente en un dataframe llamado 'dataframe_final_2021'.\n",
      "Archivos del año 2020 combinados exitosamente en un dataframe llamado 'dataframe_final_2020'.\n"
     ]
    }
   ],
   "source": [
    "# Solicitar al usuario los años a filtrar como una lista\n",
    "años_filtrar = input(\"Introduce los años que deseas filtrar, separados por comas: \").split(',')\n",
    "\n",
    "# Iterar sobre cada año en la lista\n",
    "for año_filtrar in años_filtrar:\n",
    "    # Crear una lista para almacenar los dataframes de este año\n",
    "    dataframes = []\n",
    "    \n",
    "    # Iterar sobre los archivos en la carpeta origen\n",
    "    for archivo in os.listdir(carpeta_origen):\n",
    "        # Verificar si el archivo empieza con el año indicado y es un CSV\n",
    "        if archivo.startswith(año_filtrar.strip()) and archivo.endswith(\".csv\"):\n",
    "            # Leer el archivo CSV y añadirlo a la lista de dataframes\n",
    "            ruta_archivo = os.path.join(carpeta_origen, archivo)\n",
    "            df = pd.read_csv(ruta_archivo)\n",
    "            dataframes.append(df)\n",
    "    \n",
    "    # Combinar todos los dataframes del año actual en uno solo\n",
    "    if dataframes:  # Verificar que la lista no esté vacía\n",
    "        dataframe_final = pd.concat(dataframes, ignore_index=True)\n",
    "        \n",
    "        # Crear dinámicamente una variable global con el nombre del año\n",
    "        nombre_variable = f\"dataframe_final_{año_filtrar.strip()}\"\n",
    "        globals()[nombre_variable] = dataframe_final\n",
    "        \n",
    "        print(f\"Archivos del año {año_filtrar.strip()} combinados exitosamente en un dataframe llamado '{nombre_variable}'.\")\n",
    "    else:\n",
    "        print(f\"No se encontraron archivos para el año {año_filtrar.strip()}.\")"
   ]
  },
  {
   "cell_type": "markdown",
   "metadata": {},
   "source": [
    "Ahora puedes introducir los años en formato lista separado por , si pones todos los años (2024,2023,2022,2021,2020) la ejecución me ha tardado 5min 16,3s (no es un tiempo muy loco). También podeis ejecutar solo 1 año o varios como querais solo hay que separarlos por comas a la entrada de los datos"
   ]
  },
  {
   "cell_type": "markdown",
   "metadata": {},
   "source": [
    "- El año 2020 no tiene ningun dato NA. Tiene 46.038.633 de filas y 13 varibles.\n",
    "- El año 2021 tiene una variable más que el año anterior (traffic) y todos los valores de esta variable son NA. Tiene 52.014.085 de filas y 14 variables.\n",
    "- El año 2022 también tiene la variable (traffic) con todos los valores NA. Tiene 52.892.456 de filas y 14 varibles. Me ha tardado 1min 23s en crear el dataframe.\n",
    "- El año 2023 también tiene la variable (traffic) y tiene otra variable más (V1) ambas tiene todos los valores NA, el resto de variables tienen algunos casos NA, pero pocos si lo comparamos con el tamaño del datasaet. Tiene 49.193.646 de filas y 15 varibles. Me ha tardado 1min 18s en crear el dataframe.\n",
    "- El año 2024 no está completo, los datos solo llegan hasta mayo del 2024. También tiene las variables (traffic, V1) y ambas tienen todos los valores NA, además tiene algunos valores faltantes en el resto de variables, también muy pocos casos viendo el tamaño del dataset. Tiene 22.063.104 de filas y 15 varibles. Es el dataframe que menos tarda en cargar 52s\n"
   ]
  },
  {
   "cell_type": "markdown",
   "metadata": {},
   "source": [
    "Voy a poner código para eliminar las variables traffic y V1 en todos los dataframes que hay que eliminarlas ya que todos sus valores son faltantes. Y viendo la cantidad de datos NA los eliminaria todos en todos los datasets en vez de complicarnos la vida haciendo algún método de imputación ya que son muy pocos para el tamaño de los datasets que tenemos"
   ]
  },
  {
   "cell_type": "code",
   "execution_count": null,
   "metadata": {},
   "outputs": [
    {
     "name": "stderr",
     "output_type": "stream",
     "text": [
      "C:\\Users\\TITAN OSCURO\\AppData\\Local\\Temp\\ipykernel_18792\\2592882360.py:18: DtypeWarning: Columns (6) have mixed types. Specify dtype option on import or set low_memory=False.\n",
      "  df = pd.read_csv(ruta_archivo)\n",
      "C:\\Users\\TITAN OSCURO\\AppData\\Local\\Temp\\ipykernel_18792\\2592882360.py:18: DtypeWarning: Columns (6) have mixed types. Specify dtype option on import or set low_memory=False.\n",
      "  df = pd.read_csv(ruta_archivo)\n",
      "C:\\Users\\TITAN OSCURO\\AppData\\Local\\Temp\\ipykernel_18792\\2592882360.py:18: DtypeWarning: Columns (6) have mixed types. Specify dtype option on import or set low_memory=False.\n",
      "  df = pd.read_csv(ruta_archivo)\n",
      "C:\\Users\\TITAN OSCURO\\AppData\\Local\\Temp\\ipykernel_18792\\2592882360.py:18: DtypeWarning: Columns (6) have mixed types. Specify dtype option on import or set low_memory=False.\n",
      "  df = pd.read_csv(ruta_archivo)\n",
      "C:\\Users\\TITAN OSCURO\\AppData\\Local\\Temp\\ipykernel_18792\\2592882360.py:18: DtypeWarning: Columns (6) have mixed types. Specify dtype option on import or set low_memory=False.\n",
      "  df = pd.read_csv(ruta_archivo)\n"
     ]
    },
    {
     "name": "stdout",
     "output_type": "stream",
     "text": [
      "Se ha creado un sample de 10,000 filas para el año 2024, llamado 'dataframe_sample_2024'.\n"
     ]
    }
   ],
   "source": [
    "# Creación de sample con selector por año:\n",
    "import os\n",
    "import pandas as pd\n",
    "\n",
    "# Solicitar al usuario los años a filtrar como una lista\n",
    "años_filtrar = input(\"Introduce los años que deseas filtrar, separados por comas: \").split(',')\n",
    "\n",
    "# Iterar sobre cada año en la lista\n",
    "for año_filtrar in años_filtrar:\n",
    "    # Crear una lista para almacenar los dataframes de este año\n",
    "    dataframes = []\n",
    "    \n",
    "    # Iterar sobre los archivos en la carpeta origen\n",
    "    for archivo in os.listdir(carpeta_origen):\n",
    "        # Verificar si el archivo empieza con el año indicado y es un CSV\n",
    "        if archivo.startswith(año_filtrar.strip()) and archivo.endswith(\".csv\"):\n",
    "            # Leer el archivo CSV y añadirlo a la lista de dataframes\n",
    "            ruta_archivo = os.path.join(carpeta_origen, archivo)\n",
    "            df = pd.read_csv(ruta_archivo)\n",
    "            dataframes.append(df)\n",
    "    \n",
    "    # Combinar todos los dataframes del año actual en uno solo\n",
    "    if dataframes:  # Verificar que la lista no esté vacía\n",
    "        dataframe_final = pd.concat(dataframes, ignore_index=True)\n",
    "        \n",
    "        # Si es el último año, tomar un sample de 10,000 filas\n",
    "        if año_filtrar.strip() == años_filtrar[-1].strip():\n",
    "            # Crear el nombre dinámico del sample DataFrame\n",
    "            nombre_sample = f\"dataframe_sample_{año_filtrar.strip()}\"\n",
    "            globals()[nombre_sample] = dataframe_final.sample(n=10000, random_state=42)\n",
    "            print(f\"Se ha creado un sample de 10,000 filas para el año {año_filtrar.strip()}, llamado '{nombre_sample}'.\")\n",
    "        else:\n",
    "            print(f\"Archivos del año {año_filtrar.strip()} combinados exitosamente.\")\n",
    "    else:\n",
    "        print(f\"No se encontraron archivos para el año {año_filtrar.strip()}.\")\n",
    "\n",
    "# Ahora puedes usar `dataframe_sample_(año)` como variable para el último año."
   ]
  },
  {
   "cell_type": "markdown",
   "metadata": {},
   "source": [
    "# Transformación de los datos Bicing 2020-2024"
   ]
  },
  {
   "cell_type": "code",
   "execution_count": 5,
   "metadata": {},
   "outputs": [],
   "source": [
    "# Eliminación de variables que no sirven\n",
    "dataframe_final_2021.drop(columns='traffic', inplace=True)\n",
    "dataframe_final_2022.drop(columns='traffic', inplace=True)\n",
    "dataframe_final_2023.drop(columns=['traffic','V1'], inplace=True)\n",
    "dataframe_final_2024.drop(columns=['traffic','V1'], inplace=True)"
   ]
  },
  {
   "cell_type": "markdown",
   "metadata": {},
   "source": [
    "El código debajo de esta ventana es por si quereis borrar alguna columna más para vuestro análisis porque os molesta. Doy dos opciones de hacerlo recomendable hacer la 2n opcióna así los datos originales estan intactos si haciendo cosas los destrozais no teneis que volver a cargarlos así trabajais con la copia:"
   ]
  },
  {
   "cell_type": "code",
   "execution_count": null,
   "metadata": {},
   "outputs": [],
   "source": [
    "# # Eliminar la columna deseada del dataframe\n",
    "# dataframe_final_2020.drop(columns='nombre de columna', inplace=True) # de esta forma el cambio se hace en el data frame original\n",
    "\n",
    "# # aquí borramos la columna y la guardamos en un data frame nuevo por si quieres volver atras cargar el original con todos los datos\n",
    "# dataframe_final_2020_copia=dataframe_final_2020.drop(columns='nombre de columna') \n",
    "\n",
    "## Si la copia de los datos no sale bien borrar el data frame de la siguiente forma:\n",
    "# del dataframe_final_2020_copia"
   ]
  },
  {
   "cell_type": "code",
   "execution_count": 6,
   "metadata": {},
   "outputs": [],
   "source": [
    "# Eliminación de datos NA\n",
    "dataframe_final_2021.dropna(inplace=True)\n",
    "dataframe_final_2022.dropna(inplace=True)\n",
    "dataframe_final_2023.dropna(inplace=True)\n",
    "dataframe_final_2024.dropna(inplace=True)"
   ]
  },
  {
   "cell_type": "code",
   "execution_count": 7,
   "metadata": {},
   "outputs": [],
   "source": [
    "# Transformar las dos variables timestamp en formato segundos a formato fecha. Si utilizas otro año de data frame\n",
    "dataframe_final_2020['last_reported']=pd.to_datetime(dataframe_final_2024['last_reported'], unit='s')\n",
    "dataframe_final_2020['last_updated']=pd.to_datetime(dataframe_final_2024['last_updated'], unit='s')\n",
    "\n",
    "dataframe_final_2021['last_reported']=pd.to_datetime(dataframe_final_2024['last_reported'], unit='s')\n",
    "dataframe_final_2021['last_updated']=pd.to_datetime(dataframe_final_2024['last_updated'], unit='s')\n",
    "\n",
    "dataframe_final_2022['last_reported']=pd.to_datetime(dataframe_final_2024['last_reported'], unit='s')\n",
    "dataframe_final_2022['last_updated']=pd.to_datetime(dataframe_final_2024['last_updated'], unit='s')\n",
    "\n",
    "dataframe_final_2023['last_reported']=pd.to_datetime(dataframe_final_2024['last_reported'], unit='s')\n",
    "dataframe_final_2023['last_updated']=pd.to_datetime(dataframe_final_2024['last_updated'], unit='s')\n",
    "\n",
    "dataframe_final_2024['last_reported']=pd.to_datetime(dataframe_final_2024['last_reported'], unit='s')\n",
    "dataframe_final_2024['last_updated']=pd.to_datetime(dataframe_final_2024['last_updated'], unit='s')"
   ]
  },
  {
   "cell_type": "markdown",
   "metadata": {},
   "source": [
    "# Transformación de los datos estaciones Bicing "
   ]
  },
  {
   "cell_type": "markdown",
   "metadata": {},
   "source": [
    "Dataset sobre información de las estaciones de bicing:\n",
    "- La variable (rental_uris) tienen todos los valores NA y la variable (is_valet_station) así que mejor eliminar ambas variables."
   ]
  },
  {
   "cell_type": "code",
   "execution_count": 4,
   "metadata": {},
   "outputs": [],
   "source": [
    "# Eliminación de variables que no sirven\n",
    "Info_bicing_csv.drop(columns='rental_uris', inplace=True)\n",
    "Info_bicing_csv.drop(columns='is_valet_station', inplace=True)"
   ]
  },
  {
   "cell_type": "markdown",
   "metadata": {},
   "source": [
    "En la variable (address) hay dos registros (Copa América Barcelona 2024) debe de ser un error de imputación y han puesto como dirección un evento. Con esta eliminación nos quedan solo 8 NA todos en la misma variable (altitude)."
   ]
  },
  {
   "cell_type": "code",
   "execution_count": 5,
   "metadata": {},
   "outputs": [
    {
     "data": {
      "application/vnd.microsoft.datawrangler.viewer.v0+json": {
       "columns": [
        {
         "name": "index",
         "rawType": "int64",
         "type": "integer"
        },
        {
         "name": "station_id",
         "rawType": "int64",
         "type": "integer"
        },
        {
         "name": "name",
         "rawType": "object",
         "type": "string"
        },
        {
         "name": "physical_configuration",
         "rawType": "object",
         "type": "string"
        },
        {
         "name": "lat",
         "rawType": "float64",
         "type": "float"
        },
        {
         "name": "lon",
         "rawType": "float64",
         "type": "float"
        },
        {
         "name": "altitude",
         "rawType": "float64",
         "type": "float"
        },
        {
         "name": "address",
         "rawType": "object",
         "type": "string"
        },
        {
         "name": "cross_street",
         "rawType": "object",
         "type": "string"
        },
        {
         "name": "post_code",
         "rawType": "float64",
         "type": "float"
        },
        {
         "name": "capacity",
         "rawType": "int64",
         "type": "integer"
        },
        {
         "name": "is_charging_station",
         "rawType": "bool",
         "type": "boolean"
        },
        {
         "name": "short_name",
         "rawType": "int64",
         "type": "integer"
        },
        {
         "name": "nearby_distance",
         "rawType": "float64",
         "type": "float"
        },
        {
         "name": "_ride_code_support",
         "rawType": "bool",
         "type": "boolean"
        }
       ],
       "conversionMethod": "pd.DataFrame",
       "ref": "0ad26062-7ff9-46cf-a078-7f26571d43e3",
       "rows": [
        [
         "9",
         "10",
         "C/ 60, NÚMERO 25",
         "ELECTRICBIKESTATION",
         "41.3467746",
         "2.1436235",
         null,
         "C/ 60, NÚMERO 25",
         "03-Sants-Montjuïc/12-la Marina del Prat Vermell",
         "8040.0",
         "43",
         "True",
         "10",
         "1000.0",
         "True"
        ],
        [
         "10",
         "11",
         "PG. MARITIM, 11 (DAVANT PL. BRUGADA)",
         "ELECTRICBIKESTATION",
         "41.382398",
         "2.194294",
         null,
         "PG. MARITIM, 11 (DAVANT PL. BRUGADA)",
         "01-CiutatVella/03-la Barceloneta",
         "8003.0",
         "35",
         "True",
         "11",
         "1000.0",
         "True"
        ],
        [
         "53",
         "59",
         "C/ AGUSTÍ DURAN I SANPERE, 1",
         "ELECTRICBIKESTATION",
         "41.38138153977469",
         "2.16807754829512",
         null,
         "C/ AGUSTÍ DURAN I SANPERE, 1",
         "01-CiutatVella/01-el Raval",
         "8001.0",
         "22",
         "True",
         "59",
         "1000.0",
         "True"
        ],
        [
         "259",
         "271",
         "VIA BARCINO, 69",
         "ELECTRICBIKESTATION",
         "41.4519872",
         "2.1935229",
         null,
         "VIA BARCINO, 69",
         "09-SantAndreu/57-la Trinitat Vella",
         "8033.0",
         "15",
         "True",
         "271",
         "1000.0",
         "True"
        ],
        [
         "338",
         "350",
         "C/ LONDRES, 63",
         "ELECTRICBIKESTATION",
         "41.391756",
         "2.148291",
         null,
         "C/ LONDRES, 63",
         "02-Eixample/08-l'Antiga Esquerra de l'Eixample",
         "8036.0",
         "31",
         "True",
         "350",
         "1000.0",
         "True"
        ],
        [
         "369",
         "381",
         "C/ AGUSTÍ DURAN I SANPERE, 10",
         "ELECTRICBIKESTATION",
         "41.381635534627016",
         "2.1677294668647606",
         null,
         "C/ AGUSTÍ DURAN I SANPERE, 10",
         "01-CiutatVella/01-el Raval",
         "8001.0",
         "40",
         "True",
         "381",
         "1000.0",
         "True"
        ],
        [
         "507",
         "527",
         "PG. OLIMPIC, 8",
         "ELECTRICBIKESTATION",
         "41.36197290053919",
         "2.154321610450753",
         null,
         "PG. OLIMPIC, 8",
         "03-Sants-Montjuïc/11-el Poble-sec",
         "8038.0",
         "36",
         "True",
         "527",
         "1000.0",
         "True"
        ],
        [
         "515",
         "544",
         "C/ MONTFAR, 1",
         "ELECTRICBIKESTATION",
         "41.37049",
         "2.148729",
         null,
         "C/ MONTFAR, 1",
         "03-Sants-Montjuïc/14-la Font de la Guatlla",
         "8004.0",
         "24",
         "True",
         "520",
         "1000.0",
         "True"
        ]
       ],
       "shape": {
        "columns": 14,
        "rows": 8
       }
      },
      "text/html": [
       "<div>\n",
       "<style scoped>\n",
       "    .dataframe tbody tr th:only-of-type {\n",
       "        vertical-align: middle;\n",
       "    }\n",
       "\n",
       "    .dataframe tbody tr th {\n",
       "        vertical-align: top;\n",
       "    }\n",
       "\n",
       "    .dataframe thead th {\n",
       "        text-align: right;\n",
       "    }\n",
       "</style>\n",
       "<table border=\"1\" class=\"dataframe\">\n",
       "  <thead>\n",
       "    <tr style=\"text-align: right;\">\n",
       "      <th></th>\n",
       "      <th>station_id</th>\n",
       "      <th>name</th>\n",
       "      <th>physical_configuration</th>\n",
       "      <th>lat</th>\n",
       "      <th>lon</th>\n",
       "      <th>altitude</th>\n",
       "      <th>address</th>\n",
       "      <th>cross_street</th>\n",
       "      <th>post_code</th>\n",
       "      <th>capacity</th>\n",
       "      <th>is_charging_station</th>\n",
       "      <th>short_name</th>\n",
       "      <th>nearby_distance</th>\n",
       "      <th>_ride_code_support</th>\n",
       "    </tr>\n",
       "  </thead>\n",
       "  <tbody>\n",
       "    <tr>\n",
       "      <th>9</th>\n",
       "      <td>10</td>\n",
       "      <td>C/ 60, NÚMERO 25</td>\n",
       "      <td>ELECTRICBIKESTATION</td>\n",
       "      <td>41.346775</td>\n",
       "      <td>2.143623</td>\n",
       "      <td>NaN</td>\n",
       "      <td>C/ 60, NÚMERO 25</td>\n",
       "      <td>03-Sants-Montjuïc/12-la Marina del Prat Vermell</td>\n",
       "      <td>8040.0</td>\n",
       "      <td>43</td>\n",
       "      <td>True</td>\n",
       "      <td>10</td>\n",
       "      <td>1000.0</td>\n",
       "      <td>True</td>\n",
       "    </tr>\n",
       "    <tr>\n",
       "      <th>10</th>\n",
       "      <td>11</td>\n",
       "      <td>PG. MARITIM, 11 (DAVANT PL. BRUGADA)</td>\n",
       "      <td>ELECTRICBIKESTATION</td>\n",
       "      <td>41.382398</td>\n",
       "      <td>2.194294</td>\n",
       "      <td>NaN</td>\n",
       "      <td>PG. MARITIM, 11 (DAVANT PL. BRUGADA)</td>\n",
       "      <td>01-CiutatVella/03-la Barceloneta</td>\n",
       "      <td>8003.0</td>\n",
       "      <td>35</td>\n",
       "      <td>True</td>\n",
       "      <td>11</td>\n",
       "      <td>1000.0</td>\n",
       "      <td>True</td>\n",
       "    </tr>\n",
       "    <tr>\n",
       "      <th>53</th>\n",
       "      <td>59</td>\n",
       "      <td>C/ AGUSTÍ DURAN I SANPERE, 1</td>\n",
       "      <td>ELECTRICBIKESTATION</td>\n",
       "      <td>41.381382</td>\n",
       "      <td>2.168078</td>\n",
       "      <td>NaN</td>\n",
       "      <td>C/ AGUSTÍ DURAN I SANPERE, 1</td>\n",
       "      <td>01-CiutatVella/01-el Raval</td>\n",
       "      <td>8001.0</td>\n",
       "      <td>22</td>\n",
       "      <td>True</td>\n",
       "      <td>59</td>\n",
       "      <td>1000.0</td>\n",
       "      <td>True</td>\n",
       "    </tr>\n",
       "    <tr>\n",
       "      <th>259</th>\n",
       "      <td>271</td>\n",
       "      <td>VIA BARCINO, 69</td>\n",
       "      <td>ELECTRICBIKESTATION</td>\n",
       "      <td>41.451987</td>\n",
       "      <td>2.193523</td>\n",
       "      <td>NaN</td>\n",
       "      <td>VIA BARCINO, 69</td>\n",
       "      <td>09-SantAndreu/57-la Trinitat Vella</td>\n",
       "      <td>8033.0</td>\n",
       "      <td>15</td>\n",
       "      <td>True</td>\n",
       "      <td>271</td>\n",
       "      <td>1000.0</td>\n",
       "      <td>True</td>\n",
       "    </tr>\n",
       "    <tr>\n",
       "      <th>338</th>\n",
       "      <td>350</td>\n",
       "      <td>C/ LONDRES, 63</td>\n",
       "      <td>ELECTRICBIKESTATION</td>\n",
       "      <td>41.391756</td>\n",
       "      <td>2.148291</td>\n",
       "      <td>NaN</td>\n",
       "      <td>C/ LONDRES, 63</td>\n",
       "      <td>02-Eixample/08-l'Antiga Esquerra de l'Eixample</td>\n",
       "      <td>8036.0</td>\n",
       "      <td>31</td>\n",
       "      <td>True</td>\n",
       "      <td>350</td>\n",
       "      <td>1000.0</td>\n",
       "      <td>True</td>\n",
       "    </tr>\n",
       "    <tr>\n",
       "      <th>369</th>\n",
       "      <td>381</td>\n",
       "      <td>C/ AGUSTÍ DURAN I SANPERE, 10</td>\n",
       "      <td>ELECTRICBIKESTATION</td>\n",
       "      <td>41.381636</td>\n",
       "      <td>2.167729</td>\n",
       "      <td>NaN</td>\n",
       "      <td>C/ AGUSTÍ DURAN I SANPERE, 10</td>\n",
       "      <td>01-CiutatVella/01-el Raval</td>\n",
       "      <td>8001.0</td>\n",
       "      <td>40</td>\n",
       "      <td>True</td>\n",
       "      <td>381</td>\n",
       "      <td>1000.0</td>\n",
       "      <td>True</td>\n",
       "    </tr>\n",
       "    <tr>\n",
       "      <th>507</th>\n",
       "      <td>527</td>\n",
       "      <td>PG. OLIMPIC, 8</td>\n",
       "      <td>ELECTRICBIKESTATION</td>\n",
       "      <td>41.361973</td>\n",
       "      <td>2.154322</td>\n",
       "      <td>NaN</td>\n",
       "      <td>PG. OLIMPIC, 8</td>\n",
       "      <td>03-Sants-Montjuïc/11-el Poble-sec</td>\n",
       "      <td>8038.0</td>\n",
       "      <td>36</td>\n",
       "      <td>True</td>\n",
       "      <td>527</td>\n",
       "      <td>1000.0</td>\n",
       "      <td>True</td>\n",
       "    </tr>\n",
       "    <tr>\n",
       "      <th>515</th>\n",
       "      <td>544</td>\n",
       "      <td>C/ MONTFAR, 1</td>\n",
       "      <td>ELECTRICBIKESTATION</td>\n",
       "      <td>41.370490</td>\n",
       "      <td>2.148729</td>\n",
       "      <td>NaN</td>\n",
       "      <td>C/ MONTFAR, 1</td>\n",
       "      <td>03-Sants-Montjuïc/14-la Font de la Guatlla</td>\n",
       "      <td>8004.0</td>\n",
       "      <td>24</td>\n",
       "      <td>True</td>\n",
       "      <td>520</td>\n",
       "      <td>1000.0</td>\n",
       "      <td>True</td>\n",
       "    </tr>\n",
       "  </tbody>\n",
       "</table>\n",
       "</div>"
      ],
      "text/plain": [
       "     station_id                                  name physical_configuration  \\\n",
       "9            10                      C/ 60, NÚMERO 25    ELECTRICBIKESTATION   \n",
       "10           11  PG. MARITIM, 11 (DAVANT PL. BRUGADA)    ELECTRICBIKESTATION   \n",
       "53           59          C/ AGUSTÍ DURAN I SANPERE, 1    ELECTRICBIKESTATION   \n",
       "259         271                       VIA BARCINO, 69    ELECTRICBIKESTATION   \n",
       "338         350                        C/ LONDRES, 63    ELECTRICBIKESTATION   \n",
       "369         381         C/ AGUSTÍ DURAN I SANPERE, 10    ELECTRICBIKESTATION   \n",
       "507         527                        PG. OLIMPIC, 8    ELECTRICBIKESTATION   \n",
       "515         544                         C/ MONTFAR, 1    ELECTRICBIKESTATION   \n",
       "\n",
       "           lat       lon  altitude                               address  \\\n",
       "9    41.346775  2.143623       NaN                      C/ 60, NÚMERO 25   \n",
       "10   41.382398  2.194294       NaN  PG. MARITIM, 11 (DAVANT PL. BRUGADA)   \n",
       "53   41.381382  2.168078       NaN          C/ AGUSTÍ DURAN I SANPERE, 1   \n",
       "259  41.451987  2.193523       NaN                       VIA BARCINO, 69   \n",
       "338  41.391756  2.148291       NaN                        C/ LONDRES, 63   \n",
       "369  41.381636  2.167729       NaN         C/ AGUSTÍ DURAN I SANPERE, 10   \n",
       "507  41.361973  2.154322       NaN                        PG. OLIMPIC, 8   \n",
       "515  41.370490  2.148729       NaN                         C/ MONTFAR, 1   \n",
       "\n",
       "                                        cross_street  post_code  capacity  \\\n",
       "9    03-Sants-Montjuïc/12-la Marina del Prat Vermell     8040.0        43   \n",
       "10                  01-CiutatVella/03-la Barceloneta     8003.0        35   \n",
       "53                        01-CiutatVella/01-el Raval     8001.0        22   \n",
       "259               09-SantAndreu/57-la Trinitat Vella     8033.0        15   \n",
       "338   02-Eixample/08-l'Antiga Esquerra de l'Eixample     8036.0        31   \n",
       "369                       01-CiutatVella/01-el Raval     8001.0        40   \n",
       "507                03-Sants-Montjuïc/11-el Poble-sec     8038.0        36   \n",
       "515       03-Sants-Montjuïc/14-la Font de la Guatlla     8004.0        24   \n",
       "\n",
       "     is_charging_station  short_name  nearby_distance  _ride_code_support  \n",
       "9                   True          10           1000.0                True  \n",
       "10                  True          11           1000.0                True  \n",
       "53                  True          59           1000.0                True  \n",
       "259                 True         271           1000.0                True  \n",
       "338                 True         350           1000.0                True  \n",
       "369                 True         381           1000.0                True  \n",
       "507                 True         527           1000.0                True  \n",
       "515                 True         520           1000.0                True  "
      ]
     },
     "execution_count": 5,
     "metadata": {},
     "output_type": "execute_result"
    }
   ],
   "source": [
    "# Encontrar los índices de las filas que cumplen con la condición\n",
    "indices_a_eliminar = Info_bicing_csv[Info_bicing_csv['address'] == 'Copa América Barcelona 2024'].index\n",
    "\n",
    "# Eliminar las filas específicas\n",
    "Info_bicing_csv.drop(indices_a_eliminar, inplace=True)\n",
    "\n",
    "# Datos restantes NA tras la eliminación:\n",
    "Info_bicing_csv[Info_bicing_csv.isnull().any(axis=1)]"
   ]
  },
  {
   "cell_type": "markdown",
   "metadata": {},
   "source": [
    "# Geolocalización de los datos"
   ]
  },
  {
   "cell_type": "code",
   "execution_count": null,
   "metadata": {},
   "outputs": [],
   "source": [
    "# Librería geopandas para hacer mapas\n",
    "import geopandas as gpd\n",
    "\n",
    "# Enlace a los datos de geolocalización de los barrios de Barcelona:\n",
    "url = 'https://raw.githubusercontent.com/jcanalesluna/bcn-geodata/master/districtes/districtes.geojson'\n",
    "\n",
    "# Distritos de la ciudad de Barcelona\n",
    "districts = gpd.read_file(url)\n",
    "\n",
    "# Mostrar los datos de los distritos de la ciudad de Barcelona:\n",
    "districts.head(2)"
   ]
  },
  {
   "cell_type": "code",
   "execution_count": 10,
   "metadata": {},
   "outputs": [],
   "source": [
    "# Transformar a Projected Coordinates\n",
    "districts.to_crs(epsg=2062, inplace=True)\n",
    "\n",
    "# Area y conversión de metros a kilometros\n",
    "districts['area'] = districts.area / 1000000  \n",
    "\n",
    "# Punto central/centroide\n",
    "districts['centroid']=districts.centroid "
   ]
  },
  {
   "cell_type": "code",
   "execution_count": 11,
   "metadata": {},
   "outputs": [
    {
     "name": "stderr",
     "output_type": "stream",
     "text": [
      "C:\\Users\\TITAN OSCURO\\AppData\\Local\\Temp\\ipykernel_22280\\2434641550.py:12: FutureWarning: Calling float on a single element Series is deprecated and will raise a TypeError in the future. Use float(ser.iloc[0]) instead\n",
      "  districts['sagrada_fam_dist'] = [float(sagrada_fam.distance(centroid)) / 1000 for centroid in districts.centroid]\n"
     ]
    }
   ],
   "source": [
    "# Crear un nuevo punto\n",
    "from shapely.geometry import Point\n",
    "sagrada_fam = Point(2.1743680500855005, 41.403656946781304)\n",
    "\n",
    "# Convertimos a Geoserie\n",
    "sagrada_fam = gpd.GeoSeries(sagrada_fam,crs=4326)\n",
    "\n",
    "# Transformar a sistema proyectado\n",
    "sagrada_fam= sagrada_fam.to_crs(epsg=2062)  \n",
    "\n",
    "# Comparar ubicació sagrada familia\n",
    "districts['sagrada_fam_dist'] = [float(sagrada_fam.distance(centroid)) / 1000 for centroid in districts.centroid]"
   ]
  },
  {
   "cell_type": "code",
   "execution_count": null,
   "metadata": {},
   "outputs": [
    {
     "data": {
      "text/plain": [
       "<Axes: >"
      ]
     },
     "execution_count": 20,
     "metadata": {},
     "output_type": "execute_result"
    },
    {
     "data": {
      "image/png": "[encoded data removed]",
      "text/plain": [
       "<Figure size 1000x1000 with 1 Axes>"
      ]
     },
     "metadata": {},
     "output_type": "display_data"
    }
   ],
   "source": [
    "# Mapa por distritos de Barcelona\n",
    "districts.plot(column='NOM', figsize=(10,10), edgecolor='black', legend=True)"
   ]
  },
  {
   "cell_type": "code",
   "execution_count": 32,
   "metadata": {},
   "outputs": [
    {
     "name": "stderr",
     "output_type": "stream",
     "text": [
      "C:\\Users\\TITAN OSCURO\\AppData\\Local\\Temp\\ipykernel_22280\\2375452328.py:12: DeprecationWarning: *choropleth_mapbox* is deprecated! Use *choropleth_map* instead. Learn more at: https://plotly.com/python/mapbox-to-maplibre/\n",
      "  fig = px.choropleth_mapbox(\n"
     ]
    },
    {
     "data": {
      "application/vnd.plotly.v1+json": {
       "config": {
        "plotlyServerURL": "https://plot.ly"
       },
       "data": [
        {
         "colorscale": [
          [
           0,
           "#636efa"
          ],
          [
           1,
           "#636efa"
          ]
         ],
         "geojson": {
          "bbox": [
           2.052333387639205,
           41.317041959131004,
           2.228017514181817,
           41.46771682009473
          ],
          "features": [
           {
            "bbox": [
             2.163088770566829,
             41.35773416449548,
             2.19972219744978,
             41.390611969954676
            ],
            "geometry": {
             "coordinates": [
              [
               [
                2.18345134700301,
                41.390611969954676
               ],
               [
                2.19972219744978,
                41.38498742444035
               ],
               [
                2.185360602449845,
                41.35773416449548
               ],
               [
                2.186446074200913,
                41.37964929347721
               ],
               [
                2.163088770566829,
                41.37874699364547
               ],
               [
                2.18345134700301,
                41.390611969954676
               ]
              ]
             ],
             "type": "Polygon"
            },
            "id": "0",
            "properties": {},
            "type": "Feature"
           },
           {
            "bbox": [
             2.14230283948269,
             41.374976161401854,
             2.186895464856943,
             41.41203643850192
            ],
            "geometry": {
             "coordinates": [
              [
               [
                2.186895464856943,
                41.40165447820544
               ],
               [
                2.16779689387186,
                41.374976161401854
               ],
               [
                2.14230283948269,
                41.38071753261462
               ],
               [
                2.175467790126732,
                41.41203643850192
               ],
               [
                2.186895464856943,
                41.40165447820544
               ]
              ]
             ],
             "type": "Polygon"
            },
            "id": "1",
            "properties": {},
            "type": "Feature"
           },
           {
            "bbox": [
             2.100526521183665,
             41.317041959131004,
             2.183059569588594,
             41.376232229212086
            ],
            "geometry": {
             "coordinates": [
              [
               [
                [
                 2.148236198825464,
                 41.376232229212086
                ],
                [
                 2.18075310461208,
                 41.3658367895436
                ],
                [
                 2.144279259496092,
                 41.33474740038535
                ],
                [
                 2.148912652382243,
                 41.329998097390046
                ],
                [
                 2.156849100978567,
                 41.34229372213676
                ],
                [
                 2.166165750743615,
                 41.34132519797403
                ],
                [
                 2.159202411346087,
                 41.32722085098936
                ],
                [
                 2.12579804894809,
                 41.32135292914916
                ],
                [
                 2.100526521183665,
                 41.33604204929427
                ],
                [
                 2.137422079749524,
                 41.34877355008669
                ],
                [
                 2.121786937204656,
                 41.375694665694844
                ],
                [
                 2.148236198825464,
                 41.376232229212086
                ]
               ]
              ],
              [
               [
                [
                 2.175209337217267,
                 41.34983860731435
                ],
                [
                 2.169888016214129,
                 41.32639530523763
                ],
                [
                 2.172549408381503,
                 41.317041959131004
                ],
                [
                 2.169355252887128,
                 41.32637089712653
                ],
                [
                 2.171902437442851,
                 41.34900882616834
                ],
                [
                 2.183059569588594,
                 41.36519802271609
                ],
                [
                 2.175209337217267,
                 41.34983860731435
                ]
               ]
              ]
             ],
             "type": "MultiPolygon"
            },
            "id": "2",
            "properties": {},
            "type": "Feature"
           },
           {
            "bbox": [
             2.103418130488737,
             41.3759448645919,
             2.144054396207611,
             41.40110207297572
            ],
            "geometry": {
             "coordinates": [
              [
               [
                2.103418130488737,
                41.40110207297572
               ],
               [
                2.144054396207611,
                41.3925745897198
               ],
               [
                2.142641927136334,
                41.38561713048404
               ],
               [
                2.109306402719081,
                41.3759448645919
               ],
               [
                2.103418130488737,
                41.40110207297572
               ]
              ]
             ],
             "type": "Polygon"
            },
            "id": "3",
            "properties": {},
            "type": "Feature"
           },
           {
            "bbox": [
             2.052333387639205,
             41.39557093856424,
             2.155710715849695,
             41.43541935018159
            ],
            "geometry": {
             "coordinates": [
              [
               [
                [
                 2.073126145663898,
                 41.435218031671106
                ],
                [
                 2.12119207370489,
                 41.425882656422296
                ],
                [
                 2.155710715849695,
                 41.39557093856424
                ],
                [
                 2.072792446125071,
                 41.40315750287988
                ],
                [
                 2.073126145663898,
                 41.435218031671106
                ]
               ]
              ],
              [
               [
                [
                 2.05897037693992,
                 41.43541935018159
                ],
                [
                 2.070484953622091,
                 41.41881209700348
                ],
                [
                 2.056851952015201,
                 41.41032990485063
                ],
                [
                 2.052333387639205,
                 41.42422991366459
                ],
                [
                 2.05897037693992,
                 41.43541935018159
                ]
               ]
              ]
             ],
             "type": "MultiPolygon"
            },
            "id": "4",
            "properties": {},
            "type": "Feature"
           },
           {
            "bbox": [
             2.136285109790879,
             41.39557093856424,
             2.172042936888601,
             41.423627106324425
            ],
            "geometry": {
             "coordinates": [
              [
               [
                2.136285109790879,
                41.423627106324425
               ],
               [
                2.149474766514133,
                41.42164103880739
               ],
               [
                2.172042936888601,
                41.40436948347454
               ],
               [
                2.155710715849695,
                41.39557093856424
               ],
               [
                2.136285109790879,
                41.423627106324425
               ]
              ]
             ],
             "type": "Polygon"
            },
            "id": "5",
            "properties": {},
            "type": "Feature"
           },
           {
            "bbox": [
             2.121162873719863,
             41.415831784210624,
             2.180484428205486,
             41.44976769367271
            ],
            "geometry": {
             "coordinates": [
              [
               [
                2.15948661458361,
                41.44976769367271
               ],
               [
                2.180484428205486,
                41.415831784210624
               ],
               [
                2.121162873719863,
                41.420710073609705
               ],
               [
                2.134731291369128,
                41.44756105058703
               ],
               [
                2.15948661458361,
                41.44976769367271
               ]
              ]
             ],
             "type": "Polygon"
            },
            "id": "6",
            "properties": {},
            "type": "Feature"
           },
           {
            "bbox": [
             2.155707366560936,
             41.42764445800845,
             2.18706050049082,
             41.46771682009473
            ],
            "geometry": {
             "coordinates": [
              [
               [
                2.18706050049082,
                41.46771682009473
               ],
               [
                2.184298367486103,
                41.42764445800845
               ],
               [
                2.163631657881686,
                41.42809678372932
               ],
               [
                2.155707366560936,
                41.44568857326769
               ],
               [
                2.18706050049082,
                41.46771682009473
               ]
              ]
             ],
             "type": "Polygon"
            },
            "id": "7",
            "properties": {},
            "type": "Feature"
           },
           {
            "bbox": [
             2.17606401772095,
             41.413677502005974,
             2.210759188015077,
             41.46211959156455
            ],
            "geometry": {
             "coordinates": [
              [
               [
                2.187641336315786,
                41.46211959156455
               ],
               [
                2.210759188015077,
                41.433430293595926
               ],
               [
                2.18903398431547,
                41.413677502005974
               ],
               [
                2.17606401772095,
                41.42545048705476
               ],
               [
                2.187641336315786,
                41.46211959156455
               ]
              ]
             ],
             "type": "Polygon"
            },
            "id": "8",
            "properties": {},
            "type": "Feature"
           },
           {
            "bbox": [
             2.175467790126732,
             41.38336266959184,
             2.228017514181817,
             41.42711129750025
            ],
            "geometry": {
             "coordinates": [
              [
               [
                2.207364122299359,
                41.42711129750025
               ],
               [
                2.228017514181817,
                41.40904303312677
               ],
               [
                2.202074887731098,
                41.389795395198796
               ],
               [
                2.203620655175951,
                41.38741658076773
               ],
               [
                2.200543803027859,
                41.383734668470716
               ],
               [
                2.199402849205057,
                41.38336266959184
               ],
               [
                2.175467790126732,
                41.41203643850192
               ],
               [
                2.207364122299359,
                41.42711129750025
               ]
              ]
             ],
             "type": "Polygon"
            },
            "id": "9",
            "properties": {},
            "type": "Feature"
           }
          ],
          "type": "FeatureCollection"
         },
         "hovertemplate": "NOM=Ciutat Vella<br>index=%{location}<extra></extra>",
         "locations": {
          "bdata": "AA==",
          "dtype": "i1"
         },
         "name": "Ciutat Vella",
         "showlegend": true,
         "showscale": false,
         "subplot": "mapbox",
         "type": "choroplethmapbox",
         "z": [
          1
         ]
        },
        {
         "colorscale": [
          [
           0,
           "#EF553B"
          ],
          [
           1,
           "#EF553B"
          ]
         ],
         "geojson": {
          "bbox": [
           2.052333387639205,
           41.317041959131004,
           2.228017514181817,
           41.46771682009473
          ],
          "features": [
           {
            "bbox": [
             2.163088770566829,
             41.35773416449548,
             2.19972219744978,
             41.390611969954676
            ],
            "geometry": {
             "coordinates": [
              [
               [
                2.18345134700301,
                41.390611969954676
               ],
               [
                2.19972219744978,
                41.38498742444035
               ],
               [
                2.185360602449845,
                41.35773416449548
               ],
               [
                2.186446074200913,
                41.37964929347721
               ],
               [
                2.163088770566829,
                41.37874699364547
               ],
               [
                2.18345134700301,
                41.390611969954676
               ]
              ]
             ],
             "type": "Polygon"
            },
            "id": "0",
            "properties": {},
            "type": "Feature"
           },
           {
            "bbox": [
             2.14230283948269,
             41.374976161401854,
             2.186895464856943,
             41.41203643850192
            ],
            "geometry": {
             "coordinates": [
              [
               [
                2.186895464856943,
                41.40165447820544
               ],
               [
                2.16779689387186,
                41.374976161401854
               ],
               [
                2.14230283948269,
                41.38071753261462
               ],
               [
                2.175467790126732,
                41.41203643850192
               ],
               [
                2.186895464856943,
                41.40165447820544
               ]
              ]
             ],
             "type": "Polygon"
            },
            "id": "1",
            "properties": {},
            "type": "Feature"
           },
           {
            "bbox": [
             2.100526521183665,
             41.317041959131004,
             2.183059569588594,
             41.376232229212086
            ],
            "geometry": {
             "coordinates": [
              [
               [
                [
                 2.148236198825464,
                 41.376232229212086
                ],
                [
                 2.18075310461208,
                 41.3658367895436
                ],
                [
                 2.144279259496092,
                 41.33474740038535
                ],
                [
                 2.148912652382243,
                 41.329998097390046
                ],
                [
                 2.156849100978567,
                 41.34229372213676
                ],
                [
                 2.166165750743615,
                 41.34132519797403
                ],
                [
                 2.159202411346087,
                 41.32722085098936
                ],
                [
                 2.12579804894809,
                 41.32135292914916
                ],
                [
                 2.100526521183665,
                 41.33604204929427
                ],
                [
                 2.137422079749524,
                 41.34877355008669
                ],
                [
                 2.121786937204656,
                 41.375694665694844
                ],
                [
                 2.148236198825464,
                 41.376232229212086
                ]
               ]
              ],
              [
               [
                [
                 2.175209337217267,
                 41.34983860731435
                ],
                [
                 2.169888016214129,
                 41.32639530523763
                ],
                [
                 2.172549408381503,
                 41.317041959131004
                ],
                [
                 2.169355252887128,
                 41.32637089712653
                ],
                [
                 2.171902437442851,
                 41.34900882616834
                ],
                [
                 2.183059569588594,
                 41.36519802271609
                ],
                [
                 2.175209337217267,
                 41.34983860731435
                ]
               ]
              ]
             ],
             "type": "MultiPolygon"
            },
            "id": "2",
            "properties": {},
            "type": "Feature"
           },
           {
            "bbox": [
             2.103418130488737,
             41.3759448645919,
             2.144054396207611,
             41.40110207297572
            ],
            "geometry": {
             "coordinates": [
              [
               [
                2.103418130488737,
                41.40110207297572
               ],
               [
                2.144054396207611,
                41.3925745897198
               ],
               [
                2.142641927136334,
                41.38561713048404
               ],
               [
                2.109306402719081,
                41.3759448645919
               ],
               [
                2.103418130488737,
                41.40110207297572
               ]
              ]
             ],
             "type": "Polygon"
            },
            "id": "3",
            "properties": {},
            "type": "Feature"
           },
           {
            "bbox": [
             2.052333387639205,
             41.39557093856424,
             2.155710715849695,
             41.43541935018159
            ],
            "geometry": {
             "coordinates": [
              [
               [
                [
                 2.073126145663898,
                 41.435218031671106
                ],
                [
                 2.12119207370489,
                 41.425882656422296
                ],
                [
                 2.155710715849695,
                 41.39557093856424
                ],
                [
                 2.072792446125071,
                 41.40315750287988
                ],
                [
                 2.073126145663898,
                 41.435218031671106
                ]
               ]
              ],
              [
               [
                [
                 2.05897037693992,
                 41.43541935018159
                ],
                [
                 2.070484953622091,
                 41.41881209700348
                ],
                [
                 2.056851952015201,
                 41.41032990485063
                ],
                [
                 2.052333387639205,
                 41.42422991366459
                ],
                [
                 2.05897037693992,
                 41.43541935018159
                ]
               ]
              ]
             ],
             "type": "MultiPolygon"
            },
            "id": "4",
            "properties": {},
            "type": "Feature"
           },
           {
            "bbox": [
             2.136285109790879,
             41.39557093856424,
             2.172042936888601,
             41.423627106324425
            ],
            "geometry": {
             "coordinates": [
              [
               [
                2.136285109790879,
                41.423627106324425
               ],
               [
                2.149474766514133,
                41.42164103880739
               ],
               [
                2.172042936888601,
                41.40436948347454
               ],
               [
                2.155710715849695,
                41.39557093856424
               ],
               [
                2.136285109790879,
                41.423627106324425
               ]
              ]
             ],
             "type": "Polygon"
            },
            "id": "5",
            "properties": {},
            "type": "Feature"
           },
           {
            "bbox": [
             2.121162873719863,
             41.415831784210624,
             2.180484428205486,
             41.44976769367271
            ],
            "geometry": {
             "coordinates": [
              [
               [
                2.15948661458361,
                41.44976769367271
               ],
               [
                2.180484428205486,
                41.415831784210624
               ],
               [
                2.121162873719863,
                41.420710073609705
               ],
               [
                2.134731291369128,
                41.44756105058703
               ],
               [
                2.15948661458361,
                41.44976769367271
               ]
              ]
             ],
             "type": "Polygon"
            },
            "id": "6",
            "properties": {},
            "type": "Feature"
           },
           {
            "bbox": [
             2.155707366560936,
             41.42764445800845,
             2.18706050049082,
             41.46771682009473
            ],
            "geometry": {
             "coordinates": [
              [
               [
                2.18706050049082,
                41.46771682009473
               ],
               [
                2.184298367486103,
                41.42764445800845
               ],
               [
                2.163631657881686,
                41.42809678372932
               ],
               [
                2.155707366560936,
                41.44568857326769
               ],
               [
                2.18706050049082,
                41.46771682009473
               ]
              ]
             ],
             "type": "Polygon"
            },
            "id": "7",
            "properties": {},
            "type": "Feature"
           },
           {
            "bbox": [
             2.17606401772095,
             41.413677502005974,
             2.210759188015077,
             41.46211959156455
            ],
            "geometry": {
             "coordinates": [
              [
               [
                2.187641336315786,
                41.46211959156455
               ],
               [
                2.210759188015077,
                41.433430293595926
               ],
               [
                2.18903398431547,
                41.413677502005974
               ],
               [
                2.17606401772095,
                41.42545048705476
               ],
               [
                2.187641336315786,
                41.46211959156455
               ]
              ]
             ],
             "type": "Polygon"
            },
            "id": "8",
            "properties": {},
            "type": "Feature"
           },
           {
            "bbox": [
             2.175467790126732,
             41.38336266959184,
             2.228017514181817,
             41.42711129750025
            ],
            "geometry": {
             "coordinates": [
              [
               [
                2.207364122299359,
                41.42711129750025
               ],
               [
                2.228017514181817,
                41.40904303312677
               ],
               [
                2.202074887731098,
                41.389795395198796
               ],
               [
                2.203620655175951,
                41.38741658076773
               ],
               [
                2.200543803027859,
                41.383734668470716
               ],
               [
                2.199402849205057,
                41.38336266959184
               ],
               [
                2.175467790126732,
                41.41203643850192
               ],
               [
                2.207364122299359,
                41.42711129750025
               ]
              ]
             ],
             "type": "Polygon"
            },
            "id": "9",
            "properties": {},
            "type": "Feature"
           }
          ],
          "type": "FeatureCollection"
         },
         "hovertemplate": "NOM=Eixample<br>index=%{location}<extra></extra>",
         "locations": {
          "bdata": "AQ==",
          "dtype": "i1"
         },
         "name": "Eixample",
         "showlegend": true,
         "showscale": false,
         "subplot": "mapbox",
         "type": "choroplethmapbox",
         "z": [
          1
         ]
        },
        {
         "colorscale": [
          [
           0,
           "#00cc96"
          ],
          [
           1,
           "#00cc96"
          ]
         ],
         "geojson": {
          "bbox": [
           2.052333387639205,
           41.317041959131004,
           2.228017514181817,
           41.46771682009473
          ],
          "features": [
           {
            "bbox": [
             2.163088770566829,
             41.35773416449548,
             2.19972219744978,
             41.390611969954676
            ],
            "geometry": {
             "coordinates": [
              [
               [
                2.18345134700301,
                41.390611969954676
               ],
               [
                2.19972219744978,
                41.38498742444035
               ],
               [
                2.185360602449845,
                41.35773416449548
               ],
               [
                2.186446074200913,
                41.37964929347721
               ],
               [
                2.163088770566829,
                41.37874699364547
               ],
               [
                2.18345134700301,
                41.390611969954676
               ]
              ]
             ],
             "type": "Polygon"
            },
            "id": "0",
            "properties": {},
            "type": "Feature"
           },
           {
            "bbox": [
             2.14230283948269,
             41.374976161401854,
             2.186895464856943,
             41.41203643850192
            ],
            "geometry": {
             "coordinates": [
              [
               [
                2.186895464856943,
                41.40165447820544
               ],
               [
                2.16779689387186,
                41.374976161401854
               ],
               [
                2.14230283948269,
                41.38071753261462
               ],
               [
                2.175467790126732,
                41.41203643850192
               ],
               [
                2.186895464856943,
                41.40165447820544
               ]
              ]
             ],
             "type": "Polygon"
            },
            "id": "1",
            "properties": {},
            "type": "Feature"
           },
           {
            "bbox": [
             2.100526521183665,
             41.317041959131004,
             2.183059569588594,
             41.376232229212086
            ],
            "geometry": {
             "coordinates": [
              [
               [
                [
                 2.148236198825464,
                 41.376232229212086
                ],
                [
                 2.18075310461208,
                 41.3658367895436
                ],
                [
                 2.144279259496092,
                 41.33474740038535
                ],
                [
                 2.148912652382243,
                 41.329998097390046
                ],
                [
                 2.156849100978567,
                 41.34229372213676
                ],
                [
                 2.166165750743615,
                 41.34132519797403
                ],
                [
                 2.159202411346087,
                 41.32722085098936
                ],
                [
                 2.12579804894809,
                 41.32135292914916
                ],
                [
                 2.100526521183665,
                 41.33604204929427
                ],
                [
                 2.137422079749524,
                 41.34877355008669
                ],
                [
                 2.121786937204656,
                 41.375694665694844
                ],
                [
                 2.148236198825464,
                 41.376232229212086
                ]
               ]
              ],
              [
               [
                [
                 2.175209337217267,
                 41.34983860731435
                ],
                [
                 2.169888016214129,
                 41.32639530523763
                ],
                [
                 2.172549408381503,
                 41.317041959131004
                ],
                [
                 2.169355252887128,
                 41.32637089712653
                ],
                [
                 2.171902437442851,
                 41.34900882616834
                ],
                [
                 2.183059569588594,
                 41.36519802271609
                ],
                [
                 2.175209337217267,
                 41.34983860731435
                ]
               ]
              ]
             ],
             "type": "MultiPolygon"
            },
            "id": "2",
            "properties": {},
            "type": "Feature"
           },
           {
            "bbox": [
             2.103418130488737,
             41.3759448645919,
             2.144054396207611,
             41.40110207297572
            ],
            "geometry": {
             "coordinates": [
              [
               [
                2.103418130488737,
                41.40110207297572
               ],
               [
                2.144054396207611,
                41.3925745897198
               ],
               [
                2.142641927136334,
                41.38561713048404
               ],
               [
                2.109306402719081,
                41.3759448645919
               ],
               [
                2.103418130488737,
                41.40110207297572
               ]
              ]
             ],
             "type": "Polygon"
            },
            "id": "3",
            "properties": {},
            "type": "Feature"
           },
           {
            "bbox": [
             2.052333387639205,
             41.39557093856424,
             2.155710715849695,
             41.43541935018159
            ],
            "geometry": {
             "coordinates": [
              [
               [
                [
                 2.073126145663898,
                 41.435218031671106
                ],
                [
                 2.12119207370489,
                 41.425882656422296
                ],
                [
                 2.155710715849695,
                 41.39557093856424
                ],
                [
                 2.072792446125071,
                 41.40315750287988
                ],
                [
                 2.073126145663898,
                 41.435218031671106
                ]
               ]
              ],
              [
               [
                [
                 2.05897037693992,
                 41.43541935018159
                ],
                [
                 2.070484953622091,
                 41.41881209700348
                ],
                [
                 2.056851952015201,
                 41.41032990485063
                ],
                [
                 2.052333387639205,
                 41.42422991366459
                ],
                [
                 2.05897037693992,
                 41.43541935018159
                ]
               ]
              ]
             ],
             "type": "MultiPolygon"
            },
            "id": "4",
            "properties": {},
            "type": "Feature"
           },
           {
            "bbox": [
             2.136285109790879,
             41.39557093856424,
             2.172042936888601,
             41.423627106324425
            ],
            "geometry": {
             "coordinates": [
              [
               [
                2.136285109790879,
                41.423627106324425
               ],
               [
                2.149474766514133,
                41.42164103880739
               ],
               [
                2.172042936888601,
                41.40436948347454
               ],
               [
                2.155710715849695,
                41.39557093856424
               ],
               [
                2.136285109790879,
                41.423627106324425
               ]
              ]
             ],
             "type": "Polygon"
            },
            "id": "5",
            "properties": {},
            "type": "Feature"
           },
           {
            "bbox": [
             2.121162873719863,
             41.415831784210624,
             2.180484428205486,
             41.44976769367271
            ],
            "geometry": {
             "coordinates": [
              [
               [
                2.15948661458361,
                41.44976769367271
               ],
               [
                2.180484428205486,
                41.415831784210624
               ],
               [
                2.121162873719863,
                41.420710073609705
               ],
               [
                2.134731291369128,
                41.44756105058703
               ],
               [
                2.15948661458361,
                41.44976769367271
               ]
              ]
             ],
             "type": "Polygon"
            },
            "id": "6",
            "properties": {},
            "type": "Feature"
           },
           {
            "bbox": [
             2.155707366560936,
             41.42764445800845,
             2.18706050049082,
             41.46771682009473
            ],
            "geometry": {
             "coordinates": [
              [
               [
                2.18706050049082,
                41.46771682009473
               ],
               [
                2.184298367486103,
                41.42764445800845
               ],
               [
                2.163631657881686,
                41.42809678372932
               ],
               [
                2.155707366560936,
                41.44568857326769
               ],
               [
                2.18706050049082,
                41.46771682009473
               ]
              ]
             ],
             "type": "Polygon"
            },
            "id": "7",
            "properties": {},
            "type": "Feature"
           },
           {
            "bbox": [
             2.17606401772095,
             41.413677502005974,
             2.210759188015077,
             41.46211959156455
            ],
            "geometry": {
             "coordinates": [
              [
               [
                2.187641336315786,
                41.46211959156455
               ],
               [
                2.210759188015077,
                41.433430293595926
               ],
               [
                2.18903398431547,
                41.413677502005974
               ],
               [
                2.17606401772095,
                41.42545048705476
               ],
               [
                2.187641336315786,
                41.46211959156455
               ]
              ]
             ],
             "type": "Polygon"
            },
            "id": "8",
            "properties": {},
            "type": "Feature"
           },
           {
            "bbox": [
             2.175467790126732,
             41.38336266959184,
             2.228017514181817,
             41.42711129750025
            ],
            "geometry": {
             "coordinates": [
              [
               [
                2.207364122299359,
                41.42711129750025
               ],
               [
                2.228017514181817,
                41.40904303312677
               ],
               [
                2.202074887731098,
                41.389795395198796
               ],
               [
                2.203620655175951,
                41.38741658076773
               ],
               [
                2.200543803027859,
                41.383734668470716
               ],
               [
                2.199402849205057,
                41.38336266959184
               ],
               [
                2.175467790126732,
                41.41203643850192
               ],
               [
                2.207364122299359,
                41.42711129750025
               ]
              ]
             ],
             "type": "Polygon"
            },
            "id": "9",
            "properties": {},
            "type": "Feature"
           }
          ],
          "type": "FeatureCollection"
         },
         "hovertemplate": "NOM=Sants-Montjuïc<br>index=%{location}<extra></extra>",
         "locations": {
          "bdata": "Ag==",
          "dtype": "i1"
         },
         "name": "Sants-Montjuïc",
         "showlegend": true,
         "showscale": false,
         "subplot": "mapbox",
         "type": "choroplethmapbox",
         "z": [
          1
         ]
        },
        {
         "colorscale": [
          [
           0,
           "#ab63fa"
          ],
          [
           1,
           "#ab63fa"
          ]
         ],
         "geojson": {
          "bbox": [
           2.052333387639205,
           41.317041959131004,
           2.228017514181817,
           41.46771682009473
          ],
          "features": [
           {
            "bbox": [
             2.163088770566829,
             41.35773416449548,
             2.19972219744978,
             41.390611969954676
            ],
            "geometry": {
             "coordinates": [
              [
               [
                2.18345134700301,
                41.390611969954676
               ],
               [
                2.19972219744978,
                41.38498742444035
               ],
               [
                2.185360602449845,
                41.35773416449548
               ],
               [
                2.186446074200913,
                41.37964929347721
               ],
               [
                2.163088770566829,
                41.37874699364547
               ],
               [
                2.18345134700301,
                41.390611969954676
               ]
              ]
             ],
             "type": "Polygon"
            },
            "id": "0",
            "properties": {},
            "type": "Feature"
           },
           {
            "bbox": [
             2.14230283948269,
             41.374976161401854,
             2.186895464856943,
             41.41203643850192
            ],
            "geometry": {
             "coordinates": [
              [
               [
                2.186895464856943,
                41.40165447820544
               ],
               [
                2.16779689387186,
                41.374976161401854
               ],
               [
                2.14230283948269,
                41.38071753261462
               ],
               [
                2.175467790126732,
                41.41203643850192
               ],
               [
                2.186895464856943,
                41.40165447820544
               ]
              ]
             ],
             "type": "Polygon"
            },
            "id": "1",
            "properties": {},
            "type": "Feature"
           },
           {
            "bbox": [
             2.100526521183665,
             41.317041959131004,
             2.183059569588594,
             41.376232229212086
            ],
            "geometry": {
             "coordinates": [
              [
               [
                [
                 2.148236198825464,
                 41.376232229212086
                ],
                [
                 2.18075310461208,
                 41.3658367895436
                ],
                [
                 2.144279259496092,
                 41.33474740038535
                ],
                [
                 2.148912652382243,
                 41.329998097390046
                ],
                [
                 2.156849100978567,
                 41.34229372213676
                ],
                [
                 2.166165750743615,
                 41.34132519797403
                ],
                [
                 2.159202411346087,
                 41.32722085098936
                ],
                [
                 2.12579804894809,
                 41.32135292914916
                ],
                [
                 2.100526521183665,
                 41.33604204929427
                ],
                [
                 2.137422079749524,
                 41.34877355008669
                ],
                [
                 2.121786937204656,
                 41.375694665694844
                ],
                [
                 2.148236198825464,
                 41.376232229212086
                ]
               ]
              ],
              [
               [
                [
                 2.175209337217267,
                 41.34983860731435
                ],
                [
                 2.169888016214129,
                 41.32639530523763
                ],
                [
                 2.172549408381503,
                 41.317041959131004
                ],
                [
                 2.169355252887128,
                 41.32637089712653
                ],
                [
                 2.171902437442851,
                 41.34900882616834
                ],
                [
                 2.183059569588594,
                 41.36519802271609
                ],
                [
                 2.175209337217267,
                 41.34983860731435
                ]
               ]
              ]
             ],
             "type": "MultiPolygon"
            },
            "id": "2",
            "properties": {},
            "type": "Feature"
           },
           {
            "bbox": [
             2.103418130488737,
             41.3759448645919,
             2.144054396207611,
             41.40110207297572
            ],
            "geometry": {
             "coordinates": [
              [
               [
                2.103418130488737,
                41.40110207297572
               ],
               [
                2.144054396207611,
                41.3925745897198
               ],
               [
                2.142641927136334,
                41.38561713048404
               ],
               [
                2.109306402719081,
                41.3759448645919
               ],
               [
                2.103418130488737,
                41.40110207297572
               ]
              ]
             ],
             "type": "Polygon"
            },
            "id": "3",
            "properties": {},
            "type": "Feature"
           },
           {
            "bbox": [
             2.052333387639205,
             41.39557093856424,
             2.155710715849695,
             41.43541935018159
            ],
            "geometry": {
             "coordinates": [
              [
               [
                [
                 2.073126145663898,
                 41.435218031671106
                ],
                [
                 2.12119207370489,
                 41.425882656422296
                ],
                [
                 2.155710715849695,
                 41.39557093856424
                ],
                [
                 2.072792446125071,
                 41.40315750287988
                ],
                [
                 2.073126145663898,
                 41.435218031671106
                ]
               ]
              ],
              [
               [
                [
                 2.05897037693992,
                 41.43541935018159
                ],
                [
                 2.070484953622091,
                 41.41881209700348
                ],
                [
                 2.056851952015201,
                 41.41032990485063
                ],
                [
                 2.052333387639205,
                 41.42422991366459
                ],
                [
                 2.05897037693992,
                 41.43541935018159
                ]
               ]
              ]
             ],
             "type": "MultiPolygon"
            },
            "id": "4",
            "properties": {},
            "type": "Feature"
           },
           {
            "bbox": [
             2.136285109790879,
             41.39557093856424,
             2.172042936888601,
             41.423627106324425
            ],
            "geometry": {
             "coordinates": [
              [
               [
                2.136285109790879,
                41.423627106324425
               ],
               [
                2.149474766514133,
                41.42164103880739
               ],
               [
                2.172042936888601,
                41.40436948347454
               ],
               [
                2.155710715849695,
                41.39557093856424
               ],
               [
                2.136285109790879,
                41.423627106324425
               ]
              ]
             ],
             "type": "Polygon"
            },
            "id": "5",
            "properties": {},
            "type": "Feature"
           },
           {
            "bbox": [
             2.121162873719863,
             41.415831784210624,
             2.180484428205486,
             41.44976769367271
            ],
            "geometry": {
             "coordinates": [
              [
               [
                2.15948661458361,
                41.44976769367271
               ],
               [
                2.180484428205486,
                41.415831784210624
               ],
               [
                2.121162873719863,
                41.420710073609705
               ],
               [
                2.134731291369128,
                41.44756105058703
               ],
               [
                2.15948661458361,
                41.44976769367271
               ]
              ]
             ],
             "type": "Polygon"
            },
            "id": "6",
            "properties": {},
            "type": "Feature"
           },
           {
            "bbox": [
             2.155707366560936,
             41.42764445800845,
             2.18706050049082,
             41.46771682009473
            ],
            "geometry": {
             "coordinates": [
              [
               [
                2.18706050049082,
                41.46771682009473
               ],
               [
                2.184298367486103,
                41.42764445800845
               ],
               [
                2.163631657881686,
                41.42809678372932
               ],
               [
                2.155707366560936,
                41.44568857326769
               ],
               [
                2.18706050049082,
                41.46771682009473
               ]
              ]
             ],
             "type": "Polygon"
            },
            "id": "7",
            "properties": {},
            "type": "Feature"
           },
           {
            "bbox": [
             2.17606401772095,
             41.413677502005974,
             2.210759188015077,
             41.46211959156455
            ],
            "geometry": {
             "coordinates": [
              [
               [
                2.187641336315786,
                41.46211959156455
               ],
               [
                2.210759188015077,
                41.433430293595926
               ],
               [
                2.18903398431547,
                41.413677502005974
               ],
               [
                2.17606401772095,
                41.42545048705476
               ],
               [
                2.187641336315786,
                41.46211959156455
               ]
              ]
             ],
             "type": "Polygon"
            },
            "id": "8",
            "properties": {},
            "type": "Feature"
           },
           {
            "bbox": [
             2.175467790126732,
             41.38336266959184,
             2.228017514181817,
             41.42711129750025
            ],
            "geometry": {
             "coordinates": [
              [
               [
                2.207364122299359,
                41.42711129750025
               ],
               [
                2.228017514181817,
                41.40904303312677
               ],
               [
                2.202074887731098,
                41.389795395198796
               ],
               [
                2.203620655175951,
                41.38741658076773
               ],
               [
                2.200543803027859,
                41.383734668470716
               ],
               [
                2.199402849205057,
                41.38336266959184
               ],
               [
                2.175467790126732,
                41.41203643850192
               ],
               [
                2.207364122299359,
                41.42711129750025
               ]
              ]
             ],
             "type": "Polygon"
            },
            "id": "9",
            "properties": {},
            "type": "Feature"
           }
          ],
          "type": "FeatureCollection"
         },
         "hovertemplate": "NOM=Les Corts<br>index=%{location}<extra></extra>",
         "locations": {
          "bdata": "Aw==",
          "dtype": "i1"
         },
         "name": "Les Corts",
         "showlegend": true,
         "showscale": false,
         "subplot": "mapbox",
         "type": "choroplethmapbox",
         "z": [
          1
         ]
        },
        {
         "colorscale": [
          [
           0,
           "#FFA15A"
          ],
          [
           1,
           "#FFA15A"
          ]
         ],
         "geojson": {
          "bbox": [
           2.052333387639205,
           41.317041959131004,
           2.228017514181817,
           41.46771682009473
          ],
          "features": [
           {
            "bbox": [
             2.163088770566829,
             41.35773416449548,
             2.19972219744978,
             41.390611969954676
            ],
            "geometry": {
             "coordinates": [
              [
               [
                2.18345134700301,
                41.390611969954676
               ],
               [
                2.19972219744978,
                41.38498742444035
               ],
               [
                2.185360602449845,
                41.35773416449548
               ],
               [
                2.186446074200913,
                41.37964929347721
               ],
               [
                2.163088770566829,
                41.37874699364547
               ],
               [
                2.18345134700301,
                41.390611969954676
               ]
              ]
             ],
             "type": "Polygon"
            },
            "id": "0",
            "properties": {},
            "type": "Feature"
           },
           {
            "bbox": [
             2.14230283948269,
             41.374976161401854,
             2.186895464856943,
             41.41203643850192
            ],
            "geometry": {
             "coordinates": [
              [
               [
                2.186895464856943,
                41.40165447820544
               ],
               [
                2.16779689387186,
                41.374976161401854
               ],
               [
                2.14230283948269,
                41.38071753261462
               ],
               [
                2.175467790126732,
                41.41203643850192
               ],
               [
                2.186895464856943,
                41.40165447820544
               ]
              ]
             ],
             "type": "Polygon"
            },
            "id": "1",
            "properties": {},
            "type": "Feature"
           },
           {
            "bbox": [
             2.100526521183665,
             41.317041959131004,
             2.183059569588594,
             41.376232229212086
            ],
            "geometry": {
             "coordinates": [
              [
               [
                [
                 2.148236198825464,
                 41.376232229212086
                ],
                [
                 2.18075310461208,
                 41.3658367895436
                ],
                [
                 2.144279259496092,
                 41.33474740038535
                ],
                [
                 2.148912652382243,
                 41.329998097390046
                ],
                [
                 2.156849100978567,
                 41.34229372213676
                ],
                [
                 2.166165750743615,
                 41.34132519797403
                ],
                [
                 2.159202411346087,
                 41.32722085098936
                ],
                [
                 2.12579804894809,
                 41.32135292914916
                ],
                [
                 2.100526521183665,
                 41.33604204929427
                ],
                [
                 2.137422079749524,
                 41.34877355008669
                ],
                [
                 2.121786937204656,
                 41.375694665694844
                ],
                [
                 2.148236198825464,
                 41.376232229212086
                ]
               ]
              ],
              [
               [
                [
                 2.175209337217267,
                 41.34983860731435
                ],
                [
                 2.169888016214129,
                 41.32639530523763
                ],
                [
                 2.172549408381503,
                 41.317041959131004
                ],
                [
                 2.169355252887128,
                 41.32637089712653
                ],
                [
                 2.171902437442851,
                 41.34900882616834
                ],
                [
                 2.183059569588594,
                 41.36519802271609
                ],
                [
                 2.175209337217267,
                 41.34983860731435
                ]
               ]
              ]
             ],
             "type": "MultiPolygon"
            },
            "id": "2",
            "properties": {},
            "type": "Feature"
           },
           {
            "bbox": [
             2.103418130488737,
             41.3759448645919,
             2.144054396207611,
             41.40110207297572
            ],
            "geometry": {
             "coordinates": [
              [
               [
                2.103418130488737,
                41.40110207297572
               ],
               [
                2.144054396207611,
                41.3925745897198
               ],
               [
                2.142641927136334,
                41.38561713048404
               ],
               [
                2.109306402719081,
                41.3759448645919
               ],
               [
                2.103418130488737,
                41.40110207297572
               ]
              ]
             ],
             "type": "Polygon"
            },
            "id": "3",
            "properties": {},
            "type": "Feature"
           },
           {
            "bbox": [
             2.052333387639205,
             41.39557093856424,
             2.155710715849695,
             41.43541935018159
            ],
            "geometry": {
             "coordinates": [
              [
               [
                [
                 2.073126145663898,
                 41.435218031671106
                ],
                [
                 2.12119207370489,
                 41.425882656422296
                ],
                [
                 2.155710715849695,
                 41.39557093856424
                ],
                [
                 2.072792446125071,
                 41.40315750287988
                ],
                [
                 2.073126145663898,
                 41.435218031671106
                ]
               ]
              ],
              [
               [
                [
                 2.05897037693992,
                 41.43541935018159
                ],
                [
                 2.070484953622091,
                 41.41881209700348
                ],
                [
                 2.056851952015201,
                 41.41032990485063
                ],
                [
                 2.052333387639205,
                 41.42422991366459
                ],
                [
                 2.05897037693992,
                 41.43541935018159
                ]
               ]
              ]
             ],
             "type": "MultiPolygon"
            },
            "id": "4",
            "properties": {},
            "type": "Feature"
           },
           {
            "bbox": [
             2.136285109790879,
             41.39557093856424,
             2.172042936888601,
             41.423627106324425
            ],
            "geometry": {
             "coordinates": [
              [
               [
                2.136285109790879,
                41.423627106324425
               ],
               [
                2.149474766514133,
                41.42164103880739
               ],
               [
                2.172042936888601,
                41.40436948347454
               ],
               [
                2.155710715849695,
                41.39557093856424
               ],
               [
                2.136285109790879,
                41.423627106324425
               ]
              ]
             ],
             "type": "Polygon"
            },
            "id": "5",
            "properties": {},
            "type": "Feature"
           },
           {
            "bbox": [
             2.121162873719863,
             41.415831784210624,
             2.180484428205486,
             41.44976769367271
            ],
            "geometry": {
             "coordinates": [
              [
               [
                2.15948661458361,
                41.44976769367271
               ],
               [
                2.180484428205486,
                41.415831784210624
               ],
               [
                2.121162873719863,
                41.420710073609705
               ],
               [
                2.134731291369128,
                41.44756105058703
               ],
               [
                2.15948661458361,
                41.44976769367271
               ]
              ]
             ],
             "type": "Polygon"
            },
            "id": "6",
            "properties": {},
            "type": "Feature"
           },
           {
            "bbox": [
             2.155707366560936,
             41.42764445800845,
             2.18706050049082,
             41.46771682009473
            ],
            "geometry": {
             "coordinates": [
              [
               [
                2.18706050049082,
                41.46771682009473
               ],
               [
                2.184298367486103,
                41.42764445800845
               ],
               [
                2.163631657881686,
                41.42809678372932
               ],
               [
                2.155707366560936,
                41.44568857326769
               ],
               [
                2.18706050049082,
                41.46771682009473
               ]
              ]
             ],
             "type": "Polygon"
            },
            "id": "7",
            "properties": {},
            "type": "Feature"
           },
           {
            "bbox": [
             2.17606401772095,
             41.413677502005974,
             2.210759188015077,
             41.46211959156455
            ],
            "geometry": {
             "coordinates": [
              [
               [
                2.187641336315786,
                41.46211959156455
               ],
               [
                2.210759188015077,
                41.433430293595926
               ],
               [
                2.18903398431547,
                41.413677502005974
               ],
               [
                2.17606401772095,
                41.42545048705476
               ],
               [
                2.187641336315786,
                41.46211959156455
               ]
              ]
             ],
             "type": "Polygon"
            },
            "id": "8",
            "properties": {},
            "type": "Feature"
           },
           {
            "bbox": [
             2.175467790126732,
             41.38336266959184,
             2.228017514181817,
             41.42711129750025
            ],
            "geometry": {
             "coordinates": [
              [
               [
                2.207364122299359,
                41.42711129750025
               ],
               [
                2.228017514181817,
                41.40904303312677
               ],
               [
                2.202074887731098,
                41.389795395198796
               ],
               [
                2.203620655175951,
                41.38741658076773
               ],
               [
                2.200543803027859,
                41.383734668470716
               ],
               [
                2.199402849205057,
                41.38336266959184
               ],
               [
                2.175467790126732,
                41.41203643850192
               ],
               [
                2.207364122299359,
                41.42711129750025
               ]
              ]
             ],
             "type": "Polygon"
            },
            "id": "9",
            "properties": {},
            "type": "Feature"
           }
          ],
          "type": "FeatureCollection"
         },
         "hovertemplate": "NOM=Sarrià-Sant Gervasi<br>index=%{location}<extra></extra>",
         "locations": {
          "bdata": "BA==",
          "dtype": "i1"
         },
         "name": "Sarrià-Sant Gervasi",
         "showlegend": true,
         "showscale": false,
         "subplot": "mapbox",
         "type": "choroplethmapbox",
         "z": [
          1
         ]
        },
        {
         "colorscale": [
          [
           0,
           "#19d3f3"
          ],
          [
           1,
           "#19d3f3"
          ]
         ],
         "geojson": {
          "bbox": [
           2.052333387639205,
           41.317041959131004,
           2.228017514181817,
           41.46771682009473
          ],
          "features": [
           {
            "bbox": [
             2.163088770566829,
             41.35773416449548,
             2.19972219744978,
             41.390611969954676
            ],
            "geometry": {
             "coordinates": [
              [
               [
                2.18345134700301,
                41.390611969954676
               ],
               [
                2.19972219744978,
                41.38498742444035
               ],
               [
                2.185360602449845,
                41.35773416449548
               ],
               [
                2.186446074200913,
                41.37964929347721
               ],
               [
                2.163088770566829,
                41.37874699364547
               ],
               [
                2.18345134700301,
                41.390611969954676
               ]
              ]
             ],
             "type": "Polygon"
            },
            "id": "0",
            "properties": {},
            "type": "Feature"
           },
           {
            "bbox": [
             2.14230283948269,
             41.374976161401854,
             2.186895464856943,
             41.41203643850192
            ],
            "geometry": {
             "coordinates": [
              [
               [
                2.186895464856943,
                41.40165447820544
               ],
               [
                2.16779689387186,
                41.374976161401854
               ],
               [
                2.14230283948269,
                41.38071753261462
               ],
               [
                2.175467790126732,
                41.41203643850192
               ],
               [
                2.186895464856943,
                41.40165447820544
               ]
              ]
             ],
             "type": "Polygon"
            },
            "id": "1",
            "properties": {},
            "type": "Feature"
           },
           {
            "bbox": [
             2.100526521183665,
             41.317041959131004,
             2.183059569588594,
             41.376232229212086
            ],
            "geometry": {
             "coordinates": [
              [
               [
                [
                 2.148236198825464,
                 41.376232229212086
                ],
                [
                 2.18075310461208,
                 41.3658367895436
                ],
                [
                 2.144279259496092,
                 41.33474740038535
                ],
                [
                 2.148912652382243,
                 41.329998097390046
                ],
                [
                 2.156849100978567,
                 41.34229372213676
                ],
                [
                 2.166165750743615,
                 41.34132519797403
                ],
                [
                 2.159202411346087,
                 41.32722085098936
                ],
                [
                 2.12579804894809,
                 41.32135292914916
                ],
                [
                 2.100526521183665,
                 41.33604204929427
                ],
                [
                 2.137422079749524,
                 41.34877355008669
                ],
                [
                 2.121786937204656,
                 41.375694665694844
                ],
                [
                 2.148236198825464,
                 41.376232229212086
                ]
               ]
              ],
              [
               [
                [
                 2.175209337217267,
                 41.34983860731435
                ],
                [
                 2.169888016214129,
                 41.32639530523763
                ],
                [
                 2.172549408381503,
                 41.317041959131004
                ],
                [
                 2.169355252887128,
                 41.32637089712653
                ],
                [
                 2.171902437442851,
                 41.34900882616834
                ],
                [
                 2.183059569588594,
                 41.36519802271609
                ],
                [
                 2.175209337217267,
                 41.34983860731435
                ]
               ]
              ]
             ],
             "type": "MultiPolygon"
            },
            "id": "2",
            "properties": {},
            "type": "Feature"
           },
           {
            "bbox": [
             2.103418130488737,
             41.3759448645919,
             2.144054396207611,
             41.40110207297572
            ],
            "geometry": {
             "coordinates": [
              [
               [
                2.103418130488737,
                41.40110207297572
               ],
               [
                2.144054396207611,
                41.3925745897198
               ],
               [
                2.142641927136334,
                41.38561713048404
               ],
               [
                2.109306402719081,
                41.3759448645919
               ],
               [
                2.103418130488737,
                41.40110207297572
               ]
              ]
             ],
             "type": "Polygon"
            },
            "id": "3",
            "properties": {},
            "type": "Feature"
           },
           {
            "bbox": [
             2.052333387639205,
             41.39557093856424,
             2.155710715849695,
             41.43541935018159
            ],
            "geometry": {
             "coordinates": [
              [
               [
                [
                 2.073126145663898,
                 41.435218031671106
                ],
                [
                 2.12119207370489,
                 41.425882656422296
                ],
                [
                 2.155710715849695,
                 41.39557093856424
                ],
                [
                 2.072792446125071,
                 41.40315750287988
                ],
                [
                 2.073126145663898,
                 41.435218031671106
                ]
               ]
              ],
              [
               [
                [
                 2.05897037693992,
                 41.43541935018159
                ],
                [
                 2.070484953622091,
                 41.41881209700348
                ],
                [
                 2.056851952015201,
                 41.41032990485063
                ],
                [
                 2.052333387639205,
                 41.42422991366459
                ],
                [
                 2.05897037693992,
                 41.43541935018159
                ]
               ]
              ]
             ],
             "type": "MultiPolygon"
            },
            "id": "4",
            "properties": {},
            "type": "Feature"
           },
           {
            "bbox": [
             2.136285109790879,
             41.39557093856424,
             2.172042936888601,
             41.423627106324425
            ],
            "geometry": {
             "coordinates": [
              [
               [
                2.136285109790879,
                41.423627106324425
               ],
               [
                2.149474766514133,
                41.42164103880739
               ],
               [
                2.172042936888601,
                41.40436948347454
               ],
               [
                2.155710715849695,
                41.39557093856424
               ],
               [
                2.136285109790879,
                41.423627106324425
               ]
              ]
             ],
             "type": "Polygon"
            },
            "id": "5",
            "properties": {},
            "type": "Feature"
           },
           {
            "bbox": [
             2.121162873719863,
             41.415831784210624,
             2.180484428205486,
             41.44976769367271
            ],
            "geometry": {
             "coordinates": [
              [
               [
                2.15948661458361,
                41.44976769367271
               ],
               [
                2.180484428205486,
                41.415831784210624
               ],
               [
                2.121162873719863,
                41.420710073609705
               ],
               [
                2.134731291369128,
                41.44756105058703
               ],
               [
                2.15948661458361,
                41.44976769367271
               ]
              ]
             ],
             "type": "Polygon"
            },
            "id": "6",
            "properties": {},
            "type": "Feature"
           },
           {
            "bbox": [
             2.155707366560936,
             41.42764445800845,
             2.18706050049082,
             41.46771682009473
            ],
            "geometry": {
             "coordinates": [
              [
               [
                2.18706050049082,
                41.46771682009473
               ],
               [
                2.184298367486103,
                41.42764445800845
               ],
               [
                2.163631657881686,
                41.42809678372932
               ],
               [
                2.155707366560936,
                41.44568857326769
               ],
               [
                2.18706050049082,
                41.46771682009473
               ]
              ]
             ],
             "type": "Polygon"
            },
            "id": "7",
            "properties": {},
            "type": "Feature"
           },
           {
            "bbox": [
             2.17606401772095,
             41.413677502005974,
             2.210759188015077,
             41.46211959156455
            ],
            "geometry": {
             "coordinates": [
              [
               [
                2.187641336315786,
                41.46211959156455
               ],
               [
                2.210759188015077,
                41.433430293595926
               ],
               [
                2.18903398431547,
                41.413677502005974
               ],
               [
                2.17606401772095,
                41.42545048705476
               ],
               [
                2.187641336315786,
                41.46211959156455
               ]
              ]
             ],
             "type": "Polygon"
            },
            "id": "8",
            "properties": {},
            "type": "Feature"
           },
           {
            "bbox": [
             2.175467790126732,
             41.38336266959184,
             2.228017514181817,
             41.42711129750025
            ],
            "geometry": {
             "coordinates": [
              [
               [
                2.207364122299359,
                41.42711129750025
               ],
               [
                2.228017514181817,
                41.40904303312677
               ],
               [
                2.202074887731098,
                41.389795395198796
               ],
               [
                2.203620655175951,
                41.38741658076773
               ],
               [
                2.200543803027859,
                41.383734668470716
               ],
               [
                2.199402849205057,
                41.38336266959184
               ],
               [
                2.175467790126732,
                41.41203643850192
               ],
               [
                2.207364122299359,
                41.42711129750025
               ]
              ]
             ],
             "type": "Polygon"
            },
            "id": "9",
            "properties": {},
            "type": "Feature"
           }
          ],
          "type": "FeatureCollection"
         },
         "hovertemplate": "NOM=Gràcia<br>index=%{location}<extra></extra>",
         "locations": {
          "bdata": "BQ==",
          "dtype": "i1"
         },
         "name": "Gràcia",
         "showlegend": true,
         "showscale": false,
         "subplot": "mapbox",
         "type": "choroplethmapbox",
         "z": [
          1
         ]
        },
        {
         "colorscale": [
          [
           0,
           "#FF6692"
          ],
          [
           1,
           "#FF6692"
          ]
         ],
         "geojson": {
          "bbox": [
           2.052333387639205,
           41.317041959131004,
           2.228017514181817,
           41.46771682009473
          ],
          "features": [
           {
            "bbox": [
             2.163088770566829,
             41.35773416449548,
             2.19972219744978,
             41.390611969954676
            ],
            "geometry": {
             "coordinates": [
              [
               [
                2.18345134700301,
                41.390611969954676
               ],
               [
                2.19972219744978,
                41.38498742444035
               ],
               [
                2.185360602449845,
                41.35773416449548
               ],
               [
                2.186446074200913,
                41.37964929347721
               ],
               [
                2.163088770566829,
                41.37874699364547
               ],
               [
                2.18345134700301,
                41.390611969954676
               ]
              ]
             ],
             "type": "Polygon"
            },
            "id": "0",
            "properties": {},
            "type": "Feature"
           },
           {
            "bbox": [
             2.14230283948269,
             41.374976161401854,
             2.186895464856943,
             41.41203643850192
            ],
            "geometry": {
             "coordinates": [
              [
               [
                2.186895464856943,
                41.40165447820544
               ],
               [
                2.16779689387186,
                41.374976161401854
               ],
               [
                2.14230283948269,
                41.38071753261462
               ],
               [
                2.175467790126732,
                41.41203643850192
               ],
               [
                2.186895464856943,
                41.40165447820544
               ]
              ]
             ],
             "type": "Polygon"
            },
            "id": "1",
            "properties": {},
            "type": "Feature"
           },
           {
            "bbox": [
             2.100526521183665,
             41.317041959131004,
             2.183059569588594,
             41.376232229212086
            ],
            "geometry": {
             "coordinates": [
              [
               [
                [
                 2.148236198825464,
                 41.376232229212086
                ],
                [
                 2.18075310461208,
                 41.3658367895436
                ],
                [
                 2.144279259496092,
                 41.33474740038535
                ],
                [
                 2.148912652382243,
                 41.329998097390046
                ],
                [
                 2.156849100978567,
                 41.34229372213676
                ],
                [
                 2.166165750743615,
                 41.34132519797403
                ],
                [
                 2.159202411346087,
                 41.32722085098936
                ],
                [
                 2.12579804894809,
                 41.32135292914916
                ],
                [
                 2.100526521183665,
                 41.33604204929427
                ],
                [
                 2.137422079749524,
                 41.34877355008669
                ],
                [
                 2.121786937204656,
                 41.375694665694844
                ],
                [
                 2.148236198825464,
                 41.376232229212086
                ]
               ]
              ],
              [
               [
                [
                 2.175209337217267,
                 41.34983860731435
                ],
                [
                 2.169888016214129,
                 41.32639530523763
                ],
                [
                 2.172549408381503,
                 41.317041959131004
                ],
                [
                 2.169355252887128,
                 41.32637089712653
                ],
                [
                 2.171902437442851,
                 41.34900882616834
                ],
                [
                 2.183059569588594,
                 41.36519802271609
                ],
                [
                 2.175209337217267,
                 41.34983860731435
                ]
               ]
              ]
             ],
             "type": "MultiPolygon"
            },
            "id": "2",
            "properties": {},
            "type": "Feature"
           },
           {
            "bbox": [
             2.103418130488737,
             41.3759448645919,
             2.144054396207611,
             41.40110207297572
            ],
            "geometry": {
             "coordinates": [
              [
               [
                2.103418130488737,
                41.40110207297572
               ],
               [
                2.144054396207611,
                41.3925745897198
               ],
               [
                2.142641927136334,
                41.38561713048404
               ],
               [
                2.109306402719081,
                41.3759448645919
               ],
               [
                2.103418130488737,
                41.40110207297572
               ]
              ]
             ],
             "type": "Polygon"
            },
            "id": "3",
            "properties": {},
            "type": "Feature"
           },
           {
            "bbox": [
             2.052333387639205,
             41.39557093856424,
             2.155710715849695,
             41.43541935018159
            ],
            "geometry": {
             "coordinates": [
              [
               [
                [
                 2.073126145663898,
                 41.435218031671106
                ],
                [
                 2.12119207370489,
                 41.425882656422296
                ],
                [
                 2.155710715849695,
                 41.39557093856424
                ],
                [
                 2.072792446125071,
                 41.40315750287988
                ],
                [
                 2.073126145663898,
                 41.435218031671106
                ]
               ]
              ],
              [
               [
                [
                 2.05897037693992,
                 41.43541935018159
                ],
                [
                 2.070484953622091,
                 41.41881209700348
                ],
                [
                 2.056851952015201,
                 41.41032990485063
                ],
                [
                 2.052333387639205,
                 41.42422991366459
                ],
                [
                 2.05897037693992,
                 41.43541935018159
                ]
               ]
              ]
             ],
             "type": "MultiPolygon"
            },
            "id": "4",
            "properties": {},
            "type": "Feature"
           },
           {
            "bbox": [
             2.136285109790879,
             41.39557093856424,
             2.172042936888601,
             41.423627106324425
            ],
            "geometry": {
             "coordinates": [
              [
               [
                2.136285109790879,
                41.423627106324425
               ],
               [
                2.149474766514133,
                41.42164103880739
               ],
               [
                2.172042936888601,
                41.40436948347454
               ],
               [
                2.155710715849695,
                41.39557093856424
               ],
               [
                2.136285109790879,
                41.423627106324425
               ]
              ]
             ],
             "type": "Polygon"
            },
            "id": "5",
            "properties": {},
            "type": "Feature"
           },
           {
            "bbox": [
             2.121162873719863,
             41.415831784210624,
             2.180484428205486,
             41.44976769367271
            ],
            "geometry": {
             "coordinates": [
              [
               [
                2.15948661458361,
                41.44976769367271
               ],
               [
                2.180484428205486,
                41.415831784210624
               ],
               [
                2.121162873719863,
                41.420710073609705
               ],
               [
                2.134731291369128,
                41.44756105058703
               ],
               [
                2.15948661458361,
                41.44976769367271
               ]
              ]
             ],
             "type": "Polygon"
            },
            "id": "6",
            "properties": {},
            "type": "Feature"
           },
           {
            "bbox": [
             2.155707366560936,
             41.42764445800845,
             2.18706050049082,
             41.46771682009473
            ],
            "geometry": {
             "coordinates": [
              [
               [
                2.18706050049082,
                41.46771682009473
               ],
               [
                2.184298367486103,
                41.42764445800845
               ],
               [
                2.163631657881686,
                41.42809678372932
               ],
               [
                2.155707366560936,
                41.44568857326769
               ],
               [
                2.18706050049082,
                41.46771682009473
               ]
              ]
             ],
             "type": "Polygon"
            },
            "id": "7",
            "properties": {},
            "type": "Feature"
           },
           {
            "bbox": [
             2.17606401772095,
             41.413677502005974,
             2.210759188015077,
             41.46211959156455
            ],
            "geometry": {
             "coordinates": [
              [
               [
                2.187641336315786,
                41.46211959156455
               ],
               [
                2.210759188015077,
                41.433430293595926
               ],
               [
                2.18903398431547,
                41.413677502005974
               ],
               [
                2.17606401772095,
                41.42545048705476
               ],
               [
                2.187641336315786,
                41.46211959156455
               ]
              ]
             ],
             "type": "Polygon"
            },
            "id": "8",
            "properties": {},
            "type": "Feature"
           },
           {
            "bbox": [
             2.175467790126732,
             41.38336266959184,
             2.228017514181817,
             41.42711129750025
            ],
            "geometry": {
             "coordinates": [
              [
               [
                2.207364122299359,
                41.42711129750025
               ],
               [
                2.228017514181817,
                41.40904303312677
               ],
               [
                2.202074887731098,
                41.389795395198796
               ],
               [
                2.203620655175951,
                41.38741658076773
               ],
               [
                2.200543803027859,
                41.383734668470716
               ],
               [
                2.199402849205057,
                41.38336266959184
               ],
               [
                2.175467790126732,
                41.41203643850192
               ],
               [
                2.207364122299359,
                41.42711129750025
               ]
              ]
             ],
             "type": "Polygon"
            },
            "id": "9",
            "properties": {},
            "type": "Feature"
           }
          ],
          "type": "FeatureCollection"
         },
         "hovertemplate": "NOM=Horta-Guinardó<br>index=%{location}<extra></extra>",
         "locations": {
          "bdata": "Bg==",
          "dtype": "i1"
         },
         "name": "Horta-Guinardó",
         "showlegend": true,
         "showscale": false,
         "subplot": "mapbox",
         "type": "choroplethmapbox",
         "z": [
          1
         ]
        },
        {
         "colorscale": [
          [
           0,
           "#B6E880"
          ],
          [
           1,
           "#B6E880"
          ]
         ],
         "geojson": {
          "bbox": [
           2.052333387639205,
           41.317041959131004,
           2.228017514181817,
           41.46771682009473
          ],
          "features": [
           {
            "bbox": [
             2.163088770566829,
             41.35773416449548,
             2.19972219744978,
             41.390611969954676
            ],
            "geometry": {
             "coordinates": [
              [
               [
                2.18345134700301,
                41.390611969954676
               ],
               [
                2.19972219744978,
                41.38498742444035
               ],
               [
                2.185360602449845,
                41.35773416449548
               ],
               [
                2.186446074200913,
                41.37964929347721
               ],
               [
                2.163088770566829,
                41.37874699364547
               ],
               [
                2.18345134700301,
                41.390611969954676
               ]
              ]
             ],
             "type": "Polygon"
            },
            "id": "0",
            "properties": {},
            "type": "Feature"
           },
           {
            "bbox": [
             2.14230283948269,
             41.374976161401854,
             2.186895464856943,
             41.41203643850192
            ],
            "geometry": {
             "coordinates": [
              [
               [
                2.186895464856943,
                41.40165447820544
               ],
               [
                2.16779689387186,
                41.374976161401854
               ],
               [
                2.14230283948269,
                41.38071753261462
               ],
               [
                2.175467790126732,
                41.41203643850192
               ],
               [
                2.186895464856943,
                41.40165447820544
               ]
              ]
             ],
             "type": "Polygon"
            },
            "id": "1",
            "properties": {},
            "type": "Feature"
           },
           {
            "bbox": [
             2.100526521183665,
             41.317041959131004,
             2.183059569588594,
             41.376232229212086
            ],
            "geometry": {
             "coordinates": [
              [
               [
                [
                 2.148236198825464,
                 41.376232229212086
                ],
                [
                 2.18075310461208,
                 41.3658367895436
                ],
                [
                 2.144279259496092,
                 41.33474740038535
                ],
                [
                 2.148912652382243,
                 41.329998097390046
                ],
                [
                 2.156849100978567,
                 41.34229372213676
                ],
                [
                 2.166165750743615,
                 41.34132519797403
                ],
                [
                 2.159202411346087,
                 41.32722085098936
                ],
                [
                 2.12579804894809,
                 41.32135292914916
                ],
                [
                 2.100526521183665,
                 41.33604204929427
                ],
                [
                 2.137422079749524,
                 41.34877355008669
                ],
                [
                 2.121786937204656,
                 41.375694665694844
                ],
                [
                 2.148236198825464,
                 41.376232229212086
                ]
               ]
              ],
              [
               [
                [
                 2.175209337217267,
                 41.34983860731435
                ],
                [
                 2.169888016214129,
                 41.32639530523763
                ],
                [
                 2.172549408381503,
                 41.317041959131004
                ],
                [
                 2.169355252887128,
                 41.32637089712653
                ],
                [
                 2.171902437442851,
                 41.34900882616834
                ],
                [
                 2.183059569588594,
                 41.36519802271609
                ],
                [
                 2.175209337217267,
                 41.34983860731435
                ]
               ]
              ]
             ],
             "type": "MultiPolygon"
            },
            "id": "2",
            "properties": {},
            "type": "Feature"
           },
           {
            "bbox": [
             2.103418130488737,
             41.3759448645919,
             2.144054396207611,
             41.40110207297572
            ],
            "geometry": {
             "coordinates": [
              [
               [
                2.103418130488737,
                41.40110207297572
               ],
               [
                2.144054396207611,
                41.3925745897198
               ],
               [
                2.142641927136334,
                41.38561713048404
               ],
               [
                2.109306402719081,
                41.3759448645919
               ],
               [
                2.103418130488737,
                41.40110207297572
               ]
              ]
             ],
             "type": "Polygon"
            },
            "id": "3",
            "properties": {},
            "type": "Feature"
           },
           {
            "bbox": [
             2.052333387639205,
             41.39557093856424,
             2.155710715849695,
             41.43541935018159
            ],
            "geometry": {
             "coordinates": [
              [
               [
                [
                 2.073126145663898,
                 41.435218031671106
                ],
                [
                 2.12119207370489,
                 41.425882656422296
                ],
                [
                 2.155710715849695,
                 41.39557093856424
                ],
                [
                 2.072792446125071,
                 41.40315750287988
                ],
                [
                 2.073126145663898,
                 41.435218031671106
                ]
               ]
              ],
              [
               [
                [
                 2.05897037693992,
                 41.43541935018159
                ],
                [
                 2.070484953622091,
                 41.41881209700348
                ],
                [
                 2.056851952015201,
                 41.41032990485063
                ],
                [
                 2.052333387639205,
                 41.42422991366459
                ],
                [
                 2.05897037693992,
                 41.43541935018159
                ]
               ]
              ]
             ],
             "type": "MultiPolygon"
            },
            "id": "4",
            "properties": {},
            "type": "Feature"
           },
           {
            "bbox": [
             2.136285109790879,
             41.39557093856424,
             2.172042936888601,
             41.423627106324425
            ],
            "geometry": {
             "coordinates": [
              [
               [
                2.136285109790879,
                41.423627106324425
               ],
               [
                2.149474766514133,
                41.42164103880739
               ],
               [
                2.172042936888601,
                41.40436948347454
               ],
               [
                2.155710715849695,
                41.39557093856424
               ],
               [
                2.136285109790879,
                41.423627106324425
               ]
              ]
             ],
             "type": "Polygon"
            },
            "id": "5",
            "properties": {},
            "type": "Feature"
           },
           {
            "bbox": [
             2.121162873719863,
             41.415831784210624,
             2.180484428205486,
             41.44976769367271
            ],
            "geometry": {
             "coordinates": [
              [
               [
                2.15948661458361,
                41.44976769367271
               ],
               [
                2.180484428205486,
                41.415831784210624
               ],
               [
                2.121162873719863,
                41.420710073609705
               ],
               [
                2.134731291369128,
                41.44756105058703
               ],
               [
                2.15948661458361,
                41.44976769367271
               ]
              ]
             ],
             "type": "Polygon"
            },
            "id": "6",
            "properties": {},
            "type": "Feature"
           },
           {
            "bbox": [
             2.155707366560936,
             41.42764445800845,
             2.18706050049082,
             41.46771682009473
            ],
            "geometry": {
             "coordinates": [
              [
               [
                2.18706050049082,
                41.46771682009473
               ],
               [
                2.184298367486103,
                41.42764445800845
               ],
               [
                2.163631657881686,
                41.42809678372932
               ],
               [
                2.155707366560936,
                41.44568857326769
               ],
               [
                2.18706050049082,
                41.46771682009473
               ]
              ]
             ],
             "type": "Polygon"
            },
            "id": "7",
            "properties": {},
            "type": "Feature"
           },
           {
            "bbox": [
             2.17606401772095,
             41.413677502005974,
             2.210759188015077,
             41.46211959156455
            ],
            "geometry": {
             "coordinates": [
              [
               [
                2.187641336315786,
                41.46211959156455
               ],
               [
                2.210759188015077,
                41.433430293595926
               ],
               [
                2.18903398431547,
                41.413677502005974
               ],
               [
                2.17606401772095,
                41.42545048705476
               ],
               [
                2.187641336315786,
                41.46211959156455
               ]
              ]
             ],
             "type": "Polygon"
            },
            "id": "8",
            "properties": {},
            "type": "Feature"
           },
           {
            "bbox": [
             2.175467790126732,
             41.38336266959184,
             2.228017514181817,
             41.42711129750025
            ],
            "geometry": {
             "coordinates": [
              [
               [
                2.207364122299359,
                41.42711129750025
               ],
               [
                2.228017514181817,
                41.40904303312677
               ],
               [
                2.202074887731098,
                41.389795395198796
               ],
               [
                2.203620655175951,
                41.38741658076773
               ],
               [
                2.200543803027859,
                41.383734668470716
               ],
               [
                2.199402849205057,
                41.38336266959184
               ],
               [
                2.175467790126732,
                41.41203643850192
               ],
               [
                2.207364122299359,
                41.42711129750025
               ]
              ]
             ],
             "type": "Polygon"
            },
            "id": "9",
            "properties": {},
            "type": "Feature"
           }
          ],
          "type": "FeatureCollection"
         },
         "hovertemplate": "NOM=Nou Barris<br>index=%{location}<extra></extra>",
         "locations": {
          "bdata": "Bw==",
          "dtype": "i1"
         },
         "name": "Nou Barris",
         "showlegend": true,
         "showscale": false,
         "subplot": "mapbox",
         "type": "choroplethmapbox",
         "z": [
          1
         ]
        },
        {
         "colorscale": [
          [
           0,
           "#FF97FF"
          ],
          [
           1,
           "#FF97FF"
          ]
         ],
         "geojson": {
          "bbox": [
           2.052333387639205,
           41.317041959131004,
           2.228017514181817,
           41.46771682009473
          ],
          "features": [
           {
            "bbox": [
             2.163088770566829,
             41.35773416449548,
             2.19972219744978,
             41.390611969954676
            ],
            "geometry": {
             "coordinates": [
              [
               [
                2.18345134700301,
                41.390611969954676
               ],
               [
                2.19972219744978,
                41.38498742444035
               ],
               [
                2.185360602449845,
                41.35773416449548
               ],
               [
                2.186446074200913,
                41.37964929347721
               ],
               [
                2.163088770566829,
                41.37874699364547
               ],
               [
                2.18345134700301,
                41.390611969954676
               ]
              ]
             ],
             "type": "Polygon"
            },
            "id": "0",
            "properties": {},
            "type": "Feature"
           },
           {
            "bbox": [
             2.14230283948269,
             41.374976161401854,
             2.186895464856943,
             41.41203643850192
            ],
            "geometry": {
             "coordinates": [
              [
               [
                2.186895464856943,
                41.40165447820544
               ],
               [
                2.16779689387186,
                41.374976161401854
               ],
               [
                2.14230283948269,
                41.38071753261462
               ],
               [
                2.175467790126732,
                41.41203643850192
               ],
               [
                2.186895464856943,
                41.40165447820544
               ]
              ]
             ],
             "type": "Polygon"
            },
            "id": "1",
            "properties": {},
            "type": "Feature"
           },
           {
            "bbox": [
             2.100526521183665,
             41.317041959131004,
             2.183059569588594,
             41.376232229212086
            ],
            "geometry": {
             "coordinates": [
              [
               [
                [
                 2.148236198825464,
                 41.376232229212086
                ],
                [
                 2.18075310461208,
                 41.3658367895436
                ],
                [
                 2.144279259496092,
                 41.33474740038535
                ],
                [
                 2.148912652382243,
                 41.329998097390046
                ],
                [
                 2.156849100978567,
                 41.34229372213676
                ],
                [
                 2.166165750743615,
                 41.34132519797403
                ],
                [
                 2.159202411346087,
                 41.32722085098936
                ],
                [
                 2.12579804894809,
                 41.32135292914916
                ],
                [
                 2.100526521183665,
                 41.33604204929427
                ],
                [
                 2.137422079749524,
                 41.34877355008669
                ],
                [
                 2.121786937204656,
                 41.375694665694844
                ],
                [
                 2.148236198825464,
                 41.376232229212086
                ]
               ]
              ],
              [
               [
                [
                 2.175209337217267,
                 41.34983860731435
                ],
                [
                 2.169888016214129,
                 41.32639530523763
                ],
                [
                 2.172549408381503,
                 41.317041959131004
                ],
                [
                 2.169355252887128,
                 41.32637089712653
                ],
                [
                 2.171902437442851,
                 41.34900882616834
                ],
                [
                 2.183059569588594,
                 41.36519802271609
                ],
                [
                 2.175209337217267,
                 41.34983860731435
                ]
               ]
              ]
             ],
             "type": "MultiPolygon"
            },
            "id": "2",
            "properties": {},
            "type": "Feature"
           },
           {
            "bbox": [
             2.103418130488737,
             41.3759448645919,
             2.144054396207611,
             41.40110207297572
            ],
            "geometry": {
             "coordinates": [
              [
               [
                2.103418130488737,
                41.40110207297572
               ],
               [
                2.144054396207611,
                41.3925745897198
               ],
               [
                2.142641927136334,
                41.38561713048404
               ],
               [
                2.109306402719081,
                41.3759448645919
               ],
               [
                2.103418130488737,
                41.40110207297572
               ]
              ]
             ],
             "type": "Polygon"
            },
            "id": "3",
            "properties": {},
            "type": "Feature"
           },
           {
            "bbox": [
             2.052333387639205,
             41.39557093856424,
             2.155710715849695,
             41.43541935018159
            ],
            "geometry": {
             "coordinates": [
              [
               [
                [
                 2.073126145663898,
                 41.435218031671106
                ],
                [
                 2.12119207370489,
                 41.425882656422296
                ],
                [
                 2.155710715849695,
                 41.39557093856424
                ],
                [
                 2.072792446125071,
                 41.40315750287988
                ],
                [
                 2.073126145663898,
                 41.435218031671106
                ]
               ]
              ],
              [
               [
                [
                 2.05897037693992,
                 41.43541935018159
                ],
                [
                 2.070484953622091,
                 41.41881209700348
                ],
                [
                 2.056851952015201,
                 41.41032990485063
                ],
                [
                 2.052333387639205,
                 41.42422991366459
                ],
                [
                 2.05897037693992,
                 41.43541935018159
                ]
               ]
              ]
             ],
             "type": "MultiPolygon"
            },
            "id": "4",
            "properties": {},
            "type": "Feature"
           },
           {
            "bbox": [
             2.136285109790879,
             41.39557093856424,
             2.172042936888601,
             41.423627106324425
            ],
            "geometry": {
             "coordinates": [
              [
               [
                2.136285109790879,
                41.423627106324425
               ],
               [
                2.149474766514133,
                41.42164103880739
               ],
               [
                2.172042936888601,
                41.40436948347454
               ],
               [
                2.155710715849695,
                41.39557093856424
               ],
               [
                2.136285109790879,
                41.423627106324425
               ]
              ]
             ],
             "type": "Polygon"
            },
            "id": "5",
            "properties": {},
            "type": "Feature"
           },
           {
            "bbox": [
             2.121162873719863,
             41.415831784210624,
             2.180484428205486,
             41.44976769367271
            ],
            "geometry": {
             "coordinates": [
              [
               [
                2.15948661458361,
                41.44976769367271
               ],
               [
                2.180484428205486,
                41.415831784210624
               ],
               [
                2.121162873719863,
                41.420710073609705
               ],
               [
                2.134731291369128,
                41.44756105058703
               ],
               [
                2.15948661458361,
                41.44976769367271
               ]
              ]
             ],
             "type": "Polygon"
            },
            "id": "6",
            "properties": {},
            "type": "Feature"
           },
           {
            "bbox": [
             2.155707366560936,
             41.42764445800845,
             2.18706050049082,
             41.46771682009473
            ],
            "geometry": {
             "coordinates": [
              [
               [
                2.18706050049082,
                41.46771682009473
               ],
               [
                2.184298367486103,
                41.42764445800845
               ],
               [
                2.163631657881686,
                41.42809678372932
               ],
               [
                2.155707366560936,
                41.44568857326769
               ],
               [
                2.18706050049082,
                41.46771682009473
               ]
              ]
             ],
             "type": "Polygon"
            },
            "id": "7",
            "properties": {},
            "type": "Feature"
           },
           {
            "bbox": [
             2.17606401772095,
             41.413677502005974,
             2.210759188015077,
             41.46211959156455
            ],
            "geometry": {
             "coordinates": [
              [
               [
                2.187641336315786,
                41.46211959156455
               ],
               [
                2.210759188015077,
                41.433430293595926
               ],
               [
                2.18903398431547,
                41.413677502005974
               ],
               [
                2.17606401772095,
                41.42545048705476
               ],
               [
                2.187641336315786,
                41.46211959156455
               ]
              ]
             ],
             "type": "Polygon"
            },
            "id": "8",
            "properties": {},
            "type": "Feature"
           },
           {
            "bbox": [
             2.175467790126732,
             41.38336266959184,
             2.228017514181817,
             41.42711129750025
            ],
            "geometry": {
             "coordinates": [
              [
               [
                2.207364122299359,
                41.42711129750025
               ],
               [
                2.228017514181817,
                41.40904303312677
               ],
               [
                2.202074887731098,
                41.389795395198796
               ],
               [
                2.203620655175951,
                41.38741658076773
               ],
               [
                2.200543803027859,
                41.383734668470716
               ],
               [
                2.199402849205057,
                41.38336266959184
               ],
               [
                2.175467790126732,
                41.41203643850192
               ],
               [
                2.207364122299359,
                41.42711129750025
               ]
              ]
             ],
             "type": "Polygon"
            },
            "id": "9",
            "properties": {},
            "type": "Feature"
           }
          ],
          "type": "FeatureCollection"
         },
         "hovertemplate": "NOM=Sant Andreu<br>index=%{location}<extra></extra>",
         "locations": {
          "bdata": "CA==",
          "dtype": "i1"
         },
         "name": "Sant Andreu",
         "showlegend": true,
         "showscale": false,
         "subplot": "mapbox",
         "type": "choroplethmapbox",
         "z": [
          1
         ]
        },
        {
         "colorscale": [
          [
           0,
           "#FECB52"
          ],
          [
           1,
           "#FECB52"
          ]
         ],
         "geojson": {
          "bbox": [
           2.052333387639205,
           41.317041959131004,
           2.228017514181817,
           41.46771682009473
          ],
          "features": [
           {
            "bbox": [
             2.163088770566829,
             41.35773416449548,
             2.19972219744978,
             41.390611969954676
            ],
            "geometry": {
             "coordinates": [
              [
               [
                2.18345134700301,
                41.390611969954676
               ],
               [
                2.19972219744978,
                41.38498742444035
               ],
               [
                2.185360602449845,
                41.35773416449548
               ],
               [
                2.186446074200913,
                41.37964929347721
               ],
               [
                2.163088770566829,
                41.37874699364547
               ],
               [
                2.18345134700301,
                41.390611969954676
               ]
              ]
             ],
             "type": "Polygon"
            },
            "id": "0",
            "properties": {},
            "type": "Feature"
           },
           {
            "bbox": [
             2.14230283948269,
             41.374976161401854,
             2.186895464856943,
             41.41203643850192
            ],
            "geometry": {
             "coordinates": [
              [
               [
                2.186895464856943,
                41.40165447820544
               ],
               [
                2.16779689387186,
                41.374976161401854
               ],
               [
                2.14230283948269,
                41.38071753261462
               ],
               [
                2.175467790126732,
                41.41203643850192
               ],
               [
                2.186895464856943,
                41.40165447820544
               ]
              ]
             ],
             "type": "Polygon"
            },
            "id": "1",
            "properties": {},
            "type": "Feature"
           },
           {
            "bbox": [
             2.100526521183665,
             41.317041959131004,
             2.183059569588594,
             41.376232229212086
            ],
            "geometry": {
             "coordinates": [
              [
               [
                [
                 2.148236198825464,
                 41.376232229212086
                ],
                [
                 2.18075310461208,
                 41.3658367895436
                ],
                [
                 2.144279259496092,
                 41.33474740038535
                ],
                [
                 2.148912652382243,
                 41.329998097390046
                ],
                [
                 2.156849100978567,
                 41.34229372213676
                ],
                [
                 2.166165750743615,
                 41.34132519797403
                ],
                [
                 2.159202411346087,
                 41.32722085098936
                ],
                [
                 2.12579804894809,
                 41.32135292914916
                ],
                [
                 2.100526521183665,
                 41.33604204929427
                ],
                [
                 2.137422079749524,
                 41.34877355008669
                ],
                [
                 2.121786937204656,
                 41.375694665694844
                ],
                [
                 2.148236198825464,
                 41.376232229212086
                ]
               ]
              ],
              [
               [
                [
                 2.175209337217267,
                 41.34983860731435
                ],
                [
                 2.169888016214129,
                 41.32639530523763
                ],
                [
                 2.172549408381503,
                 41.317041959131004
                ],
                [
                 2.169355252887128,
                 41.32637089712653
                ],
                [
                 2.171902437442851,
                 41.34900882616834
                ],
                [
                 2.183059569588594,
                 41.36519802271609
                ],
                [
                 2.175209337217267,
                 41.34983860731435
                ]
               ]
              ]
             ],
             "type": "MultiPolygon"
            },
            "id": "2",
            "properties": {},
            "type": "Feature"
           },
           {
            "bbox": [
             2.103418130488737,
             41.3759448645919,
             2.144054396207611,
             41.40110207297572
            ],
            "geometry": {
             "coordinates": [
              [
               [
                2.103418130488737,
                41.40110207297572
               ],
               [
                2.144054396207611,
                41.3925745897198
               ],
               [
                2.142641927136334,
                41.38561713048404
               ],
               [
                2.109306402719081,
                41.3759448645919
               ],
               [
                2.103418130488737,
                41.40110207297572
               ]
              ]
             ],
             "type": "Polygon"
            },
            "id": "3",
            "properties": {},
            "type": "Feature"
           },
           {
            "bbox": [
             2.052333387639205,
             41.39557093856424,
             2.155710715849695,
             41.43541935018159
            ],
            "geometry": {
             "coordinates": [
              [
               [
                [
                 2.073126145663898,
                 41.435218031671106
                ],
                [
                 2.12119207370489,
                 41.425882656422296
                ],
                [
                 2.155710715849695,
                 41.39557093856424
                ],
                [
                 2.072792446125071,
                 41.40315750287988
                ],
                [
                 2.073126145663898,
                 41.435218031671106
                ]
               ]
              ],
              [
               [
                [
                 2.05897037693992,
                 41.43541935018159
                ],
                [
                 2.070484953622091,
                 41.41881209700348
                ],
                [
                 2.056851952015201,
                 41.41032990485063
                ],
                [
                 2.052333387639205,
                 41.42422991366459
                ],
                [
                 2.05897037693992,
                 41.43541935018159
                ]
               ]
              ]
             ],
             "type": "MultiPolygon"
            },
            "id": "4",
            "properties": {},
            "type": "Feature"
           },
           {
            "bbox": [
             2.136285109790879,
             41.39557093856424,
             2.172042936888601,
             41.423627106324425
            ],
            "geometry": {
             "coordinates": [
              [
               [
                2.136285109790879,
                41.423627106324425
               ],
               [
                2.149474766514133,
                41.42164103880739
               ],
               [
                2.172042936888601,
                41.40436948347454
               ],
               [
                2.155710715849695,
                41.39557093856424
               ],
               [
                2.136285109790879,
                41.423627106324425
               ]
              ]
             ],
             "type": "Polygon"
            },
            "id": "5",
            "properties": {},
            "type": "Feature"
           },
           {
            "bbox": [
             2.121162873719863,
             41.415831784210624,
             2.180484428205486,
             41.44976769367271
            ],
            "geometry": {
             "coordinates": [
              [
               [
                2.15948661458361,
                41.44976769367271
               ],
               [
                2.180484428205486,
                41.415831784210624
               ],
               [
                2.121162873719863,
                41.420710073609705
               ],
               [
                2.134731291369128,
                41.44756105058703
               ],
               [
                2.15948661458361,
                41.44976769367271
               ]
              ]
             ],
             "type": "Polygon"
            },
            "id": "6",
            "properties": {},
            "type": "Feature"
           },
           {
            "bbox": [
             2.155707366560936,
             41.42764445800845,
             2.18706050049082,
             41.46771682009473
            ],
            "geometry": {
             "coordinates": [
              [
               [
                2.18706050049082,
                41.46771682009473
               ],
               [
                2.184298367486103,
                41.42764445800845
               ],
               [
                2.163631657881686,
                41.42809678372932
               ],
               [
                2.155707366560936,
                41.44568857326769
               ],
               [
                2.18706050049082,
                41.46771682009473
               ]
              ]
             ],
             "type": "Polygon"
            },
            "id": "7",
            "properties": {},
            "type": "Feature"
           },
           {
            "bbox": [
             2.17606401772095,
             41.413677502005974,
             2.210759188015077,
             41.46211959156455
            ],
            "geometry": {
             "coordinates": [
              [
               [
                2.187641336315786,
                41.46211959156455
               ],
               [
                2.210759188015077,
                41.433430293595926
               ],
               [
                2.18903398431547,
                41.413677502005974
               ],
               [
                2.17606401772095,
                41.42545048705476
               ],
               [
                2.187641336315786,
                41.46211959156455
               ]
              ]
             ],
             "type": "Polygon"
            },
            "id": "8",
            "properties": {},
            "type": "Feature"
           },
           {
            "bbox": [
             2.175467790126732,
             41.38336266959184,
             2.228017514181817,
             41.42711129750025
            ],
            "geometry": {
             "coordinates": [
              [
               [
                2.207364122299359,
                41.42711129750025
               ],
               [
                2.228017514181817,
                41.40904303312677
               ],
               [
                2.202074887731098,
                41.389795395198796
               ],
               [
                2.203620655175951,
                41.38741658076773
               ],
               [
                2.200543803027859,
                41.383734668470716
               ],
               [
                2.199402849205057,
                41.38336266959184
               ],
               [
                2.175467790126732,
                41.41203643850192
               ],
               [
                2.207364122299359,
                41.42711129750025
               ]
              ]
             ],
             "type": "Polygon"
            },
            "id": "9",
            "properties": {},
            "type": "Feature"
           }
          ],
          "type": "FeatureCollection"
         },
         "hovertemplate": "NOM=Sant Martí<br>index=%{location}<extra></extra>",
         "locations": {
          "bdata": "CQ==",
          "dtype": "i1"
         },
         "name": "Sant Martí",
         "showlegend": true,
         "showscale": false,
         "subplot": "mapbox",
         "type": "choroplethmapbox",
         "z": [
          1
         ]
        }
       ],
       "layout": {
        "legend": {
         "title": {
          "text": "NOM"
         },
         "tracegroupgap": 0
        },
        "mapbox": {
         "center": {
          "lat": 41.3851,
          "lon": 2.1734
         },
         "domain": {
          "x": [
           0,
           1
          ],
          "y": [
           0,
           1
          ]
         },
         "style": "carto-positron",
         "zoom": 10
        },
        "margin": {
         "b": 0,
         "l": 0,
         "r": 0,
         "t": 0
        },
        "template": {
         "data": {
          "bar": [
           {
            "error_x": {
             "color": "#2a3f5f"
            },
            "error_y": {
             "color": "#2a3f5f"
            },
            "marker": {
             "line": {
              "color": "#E5ECF6",
              "width": 0.5
             },
             "pattern": {
              "fillmode": "overlay",
              "size": 10,
              "solidity": 0.2
             }
            },
            "type": "bar"
           }
          ],
          "barpolar": [
           {
            "marker": {
             "line": {
              "color": "#E5ECF6",
              "width": 0.5
             },
             "pattern": {
              "fillmode": "overlay",
              "size": 10,
              "solidity": 0.2
             }
            },
            "type": "barpolar"
           }
          ],
          "carpet": [
           {
            "aaxis": {
             "endlinecolor": "#2a3f5f",
             "gridcolor": "white",
             "linecolor": "white",
             "minorgridcolor": "white",
             "startlinecolor": "#2a3f5f"
            },
            "baxis": {
             "endlinecolor": "#2a3f5f",
             "gridcolor": "white",
             "linecolor": "white",
             "minorgridcolor": "white",
             "startlinecolor": "#2a3f5f"
            },
            "type": "carpet"
           }
          ],
          "choropleth": [
           {
            "colorbar": {
             "outlinewidth": 0,
             "ticks": ""
            },
            "type": "choropleth"
           }
          ],
          "contour": [
           {
            "colorbar": {
             "outlinewidth": 0,
             "ticks": ""
            },
            "colorscale": [
             [
              0,
              "#0d0887"
             ],
             [
              0.1111111111111111,
              "#46039f"
             ],
             [
              0.2222222222222222,
              "#7201a8"
             ],
             [
              0.3333333333333333,
              "#9c179e"
             ],
             [
              0.4444444444444444,
              "#bd3786"
             ],
             [
              0.5555555555555556,
              "#d8576b"
             ],
             [
              0.6666666666666666,
              "#ed7953"
             ],
             [
              0.7777777777777778,
              "#fb9f3a"
             ],
             [
              0.8888888888888888,
              "#fdca26"
             ],
             [
              1,
              "#f0f921"
             ]
            ],
            "type": "contour"
           }
          ],
          "contourcarpet": [
           {
            "colorbar": {
             "outlinewidth": 0,
             "ticks": ""
            },
            "type": "contourcarpet"
           }
          ],
          "heatmap": [
           {
            "colorbar": {
             "outlinewidth": 0,
             "ticks": ""
            },
            "colorscale": [
             [
              0,
              "#0d0887"
             ],
             [
              0.1111111111111111,
              "#46039f"
             ],
             [
              0.2222222222222222,
              "#7201a8"
             ],
             [
              0.3333333333333333,
              "#9c179e"
             ],
             [
              0.4444444444444444,
              "#bd3786"
             ],
             [
              0.5555555555555556,
              "#d8576b"
             ],
             [
              0.6666666666666666,
              "#ed7953"
             ],
             [
              0.7777777777777778,
              "#fb9f3a"
             ],
             [
              0.8888888888888888,
              "#fdca26"
             ],
             [
              1,
              "#f0f921"
             ]
            ],
            "type": "heatmap"
           }
          ],
          "histogram": [
           {
            "marker": {
             "pattern": {
              "fillmode": "overlay",
              "size": 10,
              "solidity": 0.2
             }
            },
            "type": "histogram"
           }
          ],
          "histogram2d": [
           {
            "colorbar": {
             "outlinewidth": 0,
             "ticks": ""
            },
            "colorscale": [
             [
              0,
              "#0d0887"
             ],
             [
              0.1111111111111111,
              "#46039f"
             ],
             [
              0.2222222222222222,
              "#7201a8"
             ],
             [
              0.3333333333333333,
              "#9c179e"
             ],
             [
              0.4444444444444444,
              "#bd3786"
             ],
             [
              0.5555555555555556,
              "#d8576b"
             ],
             [
              0.6666666666666666,
              "#ed7953"
             ],
             [
              0.7777777777777778,
              "#fb9f3a"
             ],
             [
              0.8888888888888888,
              "#fdca26"
             ],
             [
              1,
              "#f0f921"
             ]
            ],
            "type": "histogram2d"
           }
          ],
          "histogram2dcontour": [
           {
            "colorbar": {
             "outlinewidth": 0,
             "ticks": ""
            },
            "colorscale": [
             [
              0,
              "#0d0887"
             ],
             [
              0.1111111111111111,
              "#46039f"
             ],
             [
              0.2222222222222222,
              "#7201a8"
             ],
             [
              0.3333333333333333,
              "#9c179e"
             ],
             [
              0.4444444444444444,
              "#bd3786"
             ],
             [
              0.5555555555555556,
              "#d8576b"
             ],
             [
              0.6666666666666666,
              "#ed7953"
             ],
             [
              0.7777777777777778,
              "#fb9f3a"
             ],
             [
              0.8888888888888888,
              "#fdca26"
             ],
             [
              1,
              "#f0f921"
             ]
            ],
            "type": "histogram2dcontour"
           }
          ],
          "mesh3d": [
           {
            "colorbar": {
             "outlinewidth": 0,
             "ticks": ""
            },
            "type": "mesh3d"
           }
          ],
          "parcoords": [
           {
            "line": {
             "colorbar": {
              "outlinewidth": 0,
              "ticks": ""
             }
            },
            "type": "parcoords"
           }
          ],
          "pie": [
           {
            "automargin": true,
            "type": "pie"
           }
          ],
          "scatter": [
           {
            "fillpattern": {
             "fillmode": "overlay",
             "size": 10,
             "solidity": 0.2
            },
            "type": "scatter"
           }
          ],
          "scatter3d": [
           {
            "line": {
             "colorbar": {
              "outlinewidth": 0,
              "ticks": ""
             }
            },
            "marker": {
             "colorbar": {
              "outlinewidth": 0,
              "ticks": ""
             }
            },
            "type": "scatter3d"
           }
          ],
          "scattercarpet": [
           {
            "marker": {
             "colorbar": {
              "outlinewidth": 0,
              "ticks": ""
             }
            },
            "type": "scattercarpet"
           }
          ],
          "scattergeo": [
           {
            "marker": {
             "colorbar": {
              "outlinewidth": 0,
              "ticks": ""
             }
            },
            "type": "scattergeo"
           }
          ],
          "scattergl": [
           {
            "marker": {
             "colorbar": {
              "outlinewidth": 0,
              "ticks": ""
             }
            },
            "type": "scattergl"
           }
          ],
          "scattermap": [
           {
            "marker": {
             "colorbar": {
              "outlinewidth": 0,
              "ticks": ""
             }
            },
            "type": "scattermap"
           }
          ],
          "scattermapbox": [
           {
            "marker": {
             "colorbar": {
              "outlinewidth": 0,
              "ticks": ""
             }
            },
            "type": "scattermapbox"
           }
          ],
          "scatterpolar": [
           {
            "marker": {
             "colorbar": {
              "outlinewidth": 0,
              "ticks": ""
             }
            },
            "type": "scatterpolar"
           }
          ],
          "scatterpolargl": [
           {
            "marker": {
             "colorbar": {
              "outlinewidth": 0,
              "ticks": ""
             }
            },
            "type": "scatterpolargl"
           }
          ],
          "scatterternary": [
           {
            "marker": {
             "colorbar": {
              "outlinewidth": 0,
              "ticks": ""
             }
            },
            "type": "scatterternary"
           }
          ],
          "surface": [
           {
            "colorbar": {
             "outlinewidth": 0,
             "ticks": ""
            },
            "colorscale": [
             [
              0,
              "#0d0887"
             ],
             [
              0.1111111111111111,
              "#46039f"
             ],
             [
              0.2222222222222222,
              "#7201a8"
             ],
             [
              0.3333333333333333,
              "#9c179e"
             ],
             [
              0.4444444444444444,
              "#bd3786"
             ],
             [
              0.5555555555555556,
              "#d8576b"
             ],
             [
              0.6666666666666666,
              "#ed7953"
             ],
             [
              0.7777777777777778,
              "#fb9f3a"
             ],
             [
              0.8888888888888888,
              "#fdca26"
             ],
             [
              1,
              "#f0f921"
             ]
            ],
            "type": "surface"
           }
          ],
          "table": [
           {
            "cells": {
             "fill": {
              "color": "#EBF0F8"
             },
             "line": {
              "color": "white"
             }
            },
            "header": {
             "fill": {
              "color": "#C8D4E3"
             },
             "line": {
              "color": "white"
             }
            },
            "type": "table"
           }
          ]
         },
         "layout": {
          "annotationdefaults": {
           "arrowcolor": "#2a3f5f",
           "arrowhead": 0,
           "arrowwidth": 1
          },
          "autotypenumbers": "strict",
          "coloraxis": {
           "colorbar": {
            "outlinewidth": 0,
            "ticks": ""
           }
          },
          "colorscale": {
           "diverging": [
            [
             0,
             "#8e0152"
            ],
            [
             0.1,
             "#c51b7d"
            ],
            [
             0.2,
             "#de77ae"
            ],
            [
             0.3,
             "#f1b6da"
            ],
            [
             0.4,
             "#fde0ef"
            ],
            [
             0.5,
             "#f7f7f7"
            ],
            [
             0.6,
             "#e6f5d0"
            ],
            [
             0.7,
             "#b8e186"
            ],
            [
             0.8,
             "#7fbc41"
            ],
            [
             0.9,
             "#4d9221"
            ],
            [
             1,
             "#276419"
            ]
           ],
           "sequential": [
            [
             0,
             "#0d0887"
            ],
            [
             0.1111111111111111,
             "#46039f"
            ],
            [
             0.2222222222222222,
             "#7201a8"
            ],
            [
             0.3333333333333333,
             "#9c179e"
            ],
            [
             0.4444444444444444,
             "#bd3786"
            ],
            [
             0.5555555555555556,
             "#d8576b"
            ],
            [
             0.6666666666666666,
             "#ed7953"
            ],
            [
             0.7777777777777778,
             "#fb9f3a"
            ],
            [
             0.8888888888888888,
             "#fdca26"
            ],
            [
             1,
             "#f0f921"
            ]
           ],
           "sequentialminus": [
            [
             0,
             "#0d0887"
            ],
            [
             0.1111111111111111,
             "#46039f"
            ],
            [
             0.2222222222222222,
             "#7201a8"
            ],
            [
             0.3333333333333333,
             "#9c179e"
            ],
            [
             0.4444444444444444,
             "#bd3786"
            ],
            [
             0.5555555555555556,
             "#d8576b"
            ],
            [
             0.6666666666666666,
             "#ed7953"
            ],
            [
             0.7777777777777778,
             "#fb9f3a"
            ],
            [
             0.8888888888888888,
             "#fdca26"
            ],
            [
             1,
             "#f0f921"
            ]
           ]
          },
          "colorway": [
           "#636efa",
           "#EF553B",
           "#00cc96",
           "#ab63fa",
           "#FFA15A",
           "#19d3f3",
           "#FF6692",
           "#B6E880",
           "#FF97FF",
           "#FECB52"
          ],
          "font": {
           "color": "#2a3f5f"
          },
          "geo": {
           "bgcolor": "white",
           "lakecolor": "white",
           "landcolor": "#E5ECF6",
           "showlakes": true,
           "showland": true,
           "subunitcolor": "white"
          },
          "hoverlabel": {
           "align": "left"
          },
          "hovermode": "closest",
          "mapbox": {
           "style": "light"
          },
          "paper_bgcolor": "white",
          "plot_bgcolor": "#E5ECF6",
          "polar": {
           "angularaxis": {
            "gridcolor": "white",
            "linecolor": "white",
            "ticks": ""
           },
           "bgcolor": "#E5ECF6",
           "radialaxis": {
            "gridcolor": "white",
            "linecolor": "white",
            "ticks": ""
           }
          },
          "scene": {
           "xaxis": {
            "backgroundcolor": "#E5ECF6",
            "gridcolor": "white",
            "gridwidth": 2,
            "linecolor": "white",
            "showbackground": true,
            "ticks": "",
            "zerolinecolor": "white"
           },
           "yaxis": {
            "backgroundcolor": "#E5ECF6",
            "gridcolor": "white",
            "gridwidth": 2,
            "linecolor": "white",
            "showbackground": true,
            "ticks": "",
            "zerolinecolor": "white"
           },
           "zaxis": {
            "backgroundcolor": "#E5ECF6",
            "gridcolor": "white",
            "gridwidth": 2,
            "linecolor": "white",
            "showbackground": true,
            "ticks": "",
            "zerolinecolor": "white"
           }
          },
          "shapedefaults": {
           "line": {
            "color": "#2a3f5f"
           }
          },
          "ternary": {
           "aaxis": {
            "gridcolor": "white",
            "linecolor": "white",
            "ticks": ""
           },
           "baxis": {
            "gridcolor": "white",
            "linecolor": "white",
            "ticks": ""
           },
           "bgcolor": "#E5ECF6",
           "caxis": {
            "gridcolor": "white",
            "linecolor": "white",
            "ticks": ""
           }
          },
          "title": {
           "x": 0.05
          },
          "xaxis": {
           "automargin": true,
           "gridcolor": "white",
           "linecolor": "white",
           "ticks": "",
           "title": {
            "standoff": 15
           },
           "zerolinecolor": "white",
           "zerolinewidth": 2
          },
          "yaxis": {
           "automargin": true,
           "gridcolor": "white",
           "linecolor": "white",
           "ticks": "",
           "title": {
            "standoff": 15
           },
           "zerolinecolor": "white",
           "zerolinewidth": 2
          }
         }
        },
        "title": {
         "text": "Distritos de Barcelona"
        }
       }
      }
     },
     "metadata": {},
     "output_type": "display_data"
    }
   ],
   "source": [
    "import plotly.express as px\n",
    "import geopandas as gpd\n",
    "\n",
    "# Cargar el archivo GeoDataFrame con información de los distritos\n",
    "districts = gpd.read_file('C:/Users/TITAN OSCURO/Desktop/UB captson project/UB-capston-project/UB-capston-project/districtes.geojson')  # Reemplaza con la ruta de tu archivo GeoJSON\n",
    "\n",
    "# Convertir el GeoDataFrame a un formato que Plotly pueda usar\n",
    "districts['geometry'] = districts['geometry'].apply(lambda x: x.simplify(0.01))\n",
    "districts = districts.to_crs('EPSG:4326')  # Asegúrate de usar el sistema de coordenadas WGS84 (EPSG:4326)\n",
    "\n",
    "# Crear el mapa interactivo\n",
    "fig = px.choropleth_mapbox(\n",
    "    districts,\n",
    "    geojson=districts.geometry,\n",
    "    locations=districts.index,\n",
    "    color='NOM',  # Usa 'NOM' como columna para la categorización\n",
    "    mapbox_style=\"carto-positron\",\n",
    "    center={\"lat\": 41.3851, \"lon\": 2.1734},  # Coordenadas de Barcelona\n",
    "    zoom=10,\n",
    "    title=\"Distritos de Barcelona\"\n",
    ")\n",
    "\n",
    "fig.update_layout(margin={\"r\":0,\"t\":0,\"l\":0,\"b\":0})\n",
    "fig.show()  "
   ]
  },
  {
   "cell_type": "code",
   "execution_count": null,
   "metadata": {},
   "outputs": [],
   "source": []
  },
  {
   "cell_type": "code",
   "execution_count": null,
   "metadata": {},
   "outputs": [],
   "source": []
  }
 ],
 "metadata": {
  "kernelspec": {
   "display_name": "Python 3",
   "language": "python",
   "name": "python3"
  },
  "language_info": {
   "codemirror_mode": {
    "name": "ipython",
    "version": 3
   },
   "file_extension": ".py",
   "mimetype": "text/x-python",
   "name": "python",
   "nbconvert_exporter": "python",
   "pygments_lexer": "ipython3",
   "version": "3.13.2"
  }
 },
 "nbformat": 4,
 "nbformat_minor": 2
}
